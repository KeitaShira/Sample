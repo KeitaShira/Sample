{
 "cells": [
  {
   "cell_type": "markdown",
   "metadata": {},
   "source": [
    "# 第5回課題\n",
    "第5回課題では，以下の項目を満たすように分析してください．\n",
    "\n",
    "明確な解答は用意していませんが，少なくとも間違っていないと言える推論をするようにしてください．\n",
    "\n",
    "- データの取得\n",
    "- データの確認\n",
    " - 特徴量の確認\n",
    " - ラベルの確認\n",
    "- 仮説を立てる\n",
    "- データの分析\n",
    "- モデルの訓練\n",
    "- 予測\n",
    "- 精度の確認\n",
    "- 仮説の確認"
   ]
  },
  {
   "cell_type": "markdown",
   "metadata": {},
   "source": [
    "# データの取得\n",
    "wine data 以外を利用してデータ分析してください．\n",
    "\n",
    "なるべく，ラベルと属性から推論が立てやすいデータを選択するとやりやすいです．"
   ]
  },
  {
   "cell_type": "code",
   "execution_count": 12,
   "metadata": {},
   "outputs": [],
   "source": [
    "import matplotlib.pyplot as plt\n",
    "%matplotlib inline\n",
    "import numpy as np\n",
    "import pandas as pd\n",
    "data=pd.read_csv(\"./archive/runs.csv\")\n",
    "#生涯獲得賞金、オッズ、年齢、順位に相関があると考えられる\n",
    "\n"
   ]
  },
  {
   "cell_type": "markdown",
   "metadata": {},
   "source": [
    "# データの確認\n",
    "データ分析以前にわかることを確認．特徴量の属性やドメイン知識など\n",
    "- 特徴量の確認\n",
    "- ラベルの確認"
   ]
  },
  {
   "cell_type": "code",
   "execution_count": 2,
   "metadata": {
    "scrolled": true
   },
   "outputs": [
    {
     "data": {
      "text/plain": [
       "array(['race_id', 'horse_no', 'horse_id', 'result', 'won',\n",
       "       'lengths_behind', 'horse_age', 'horse_country', 'horse_type',\n",
       "       'horse_rating', 'horse_gear', 'declared_weight', 'actual_weight',\n",
       "       'draw', 'position_sec1', 'position_sec2', 'position_sec3',\n",
       "       'position_sec4', 'position_sec5', 'position_sec6', 'behind_sec1',\n",
       "       'behind_sec2', 'behind_sec3', 'behind_sec4', 'behind_sec5',\n",
       "       'behind_sec6', 'time1', 'time2', 'time3', 'time4', 'time5',\n",
       "       'time6', 'finish_time', 'win_odds', 'place_odds', 'trainer_id',\n",
       "       'jockey_id'], dtype=object)"
      ]
     },
     "execution_count": 2,
     "metadata": {},
     "output_type": "execute_result"
    }
   ],
   "source": [
    "data.columns.values"
   ]
  },
  {
   "cell_type": "code",
   "execution_count": 4,
   "metadata": {},
   "outputs": [],
   "source": [
    "feature_names=data.columns.values"
   ]
  },
  {
   "cell_type": "code",
   "execution_count": 29,
   "metadata": {},
   "outputs": [
    {
     "ename": "SyntaxError",
     "evalue": "invalid syntax (<ipython-input-29-545b2ad3ffb9>, line 1)",
     "output_type": "error",
     "traceback": [
      "\u001b[1;36m  File \u001b[1;32m\"<ipython-input-29-545b2ad3ffb9>\"\u001b[1;36m, line \u001b[1;32m1\u001b[0m\n\u001b[1;33m    race_id - unique identifier for the race\u001b[0m\n\u001b[1;37m                     ^\u001b[0m\n\u001b[1;31mSyntaxError\u001b[0m\u001b[1;31m:\u001b[0m invalid syntax\n"
     ]
    }
   ],
   "source": [
    "race_id - unique identifier for the race\n",
    "\n",
    "horse_no - the number assigned to this horse, in the race\n",
    "\n",
    "horse_id - unique identifier for this horse\n",
    "\n",
    "result - finishing position of this horse in the race\n",
    "\n",
    "won - whether horse won (1) or otherwise (0)\n",
    "\n",
    "lengths_behind - finishing position, as the number of horse lengths behind the winner\n",
    "\n",
    "horse_age - current age of this horse at the time of the race\n",
    "\n",
    "horse_country - country of origin of this horse\n",
    "\n",
    "horse_type - sex of the horse, e.g. 'Gelding', 'Mare', 'Horse', 'Rig', 'Colt', 'Filly'\n",
    "\n",
    "horse_rating - rating number assigned by HKJC to this horse at the time of the race\n",
    "\n",
    "horse_gear - string representing the gear carried by the horse in the race. An explanation of the codes used may be found on the HKJC website.\n",
    "\n",
    "declared_weight - declared weight of the horse and jockey, in lbs\n",
    "\n",
    "actual_weight - actual weight carried by the horse, in lbs\n",
    "\n",
    "draw - post position number of the horse in this race\n",
    "\n",
    "position_sec1 - position of this horse (ranking) in section 1 of the race\n",
    "\n",
    "position_sec2 - position of this horse (ranking) in section 2 of the race\n",
    "\n",
    "position_sec3 - position of this horse (ranking) in section 3 of the race\n",
    "\n",
    "position_sec4 - position of this horse (ranking) in section 4 of the race, if any\n",
    "\n",
    "position_sec5 - position of this horse (ranking) in section 5 of the race, if any\n",
    "\n",
    "position_sec6 - position of this horse (ranking) in section 6 of the race, if any\n",
    "\n",
    "behind_sec1 - position of this horse (lengths behind leader) in section 1 of the race\n",
    "\n",
    "behind_sec2 - position of this horse (lengths behind leader) in section 2 of the race\n",
    "\n",
    "behind_sec3 - position of this horse (lengths behind leader) in section 3 of the race\n",
    "\n",
    "behind_sec4 - position of this horse (lengths behind leader) in section 4 of the race, if any\n",
    "\n",
    "behind_sec5 - position of this horse (lengths behind leader) in section 5 of the race, if any\n",
    "\n",
    "behind_sec6 - position of this horse (lengths behind leader) in section 6 of the race, if any\n",
    "\n",
    "time1 - time taken by the horse to pass through the 1st section of the race (sec)\n",
    "\n",
    "time2 - time taken by the horse to pass through the 2nd section of the race (sec)\n",
    "\n",
    "time3 - time taken by the horse to pass through the 3rd section of the race (sec)\n",
    "\n",
    "time4 - time taken by the horse to pass through the 4th section of the race, if any (sec)\n",
    "\n",
    "time5 - time taken by the horse to pass through the 5th section of the race, if any (sec)\n",
    "\n",
    "time6 - time taken by the horse to pass through the 6th section of the race, if any (sec)\n",
    "\n",
    "finish_time - finishing time of the horse in this race (sec)\n",
    "\n",
    "win_odds - win odds for this horse at start of race\n",
    "\n",
    "place_odds - place (finishing in 1st, 2nd or 3rd position) odds for this horse at start of race\n",
    "\n",
    "trainer_id - unique identifier of the horse's trainer at the time of the race\n",
    "\n",
    "jockey_id - unique identifier of the jockey riding the horse in this race"
   ]
  },
  {
   "cell_type": "code",
   "execution_count": null,
   "metadata": {},
   "outputs": [],
   "source": [
    "race_id - レースの一意の識別子です。\n",
    "\n",
    "horse_no - レース中にこの馬に割り当てられた番号です。\n",
    "\n",
    "horse_id - この馬の固有の識別子です。\n",
    "\n",
    "result - レース中のこの馬の順位です。\n",
    "\n",
    "won - 馬が勝ったか（1）、そうでないか（0）を示します。\n",
    "\n",
    "lengths_behind - 勝者から何馬身遅れているかを示す順位です。\n",
    "\n",
    "horse_age - レースの時点でのこの馬の年齢。\n",
    "\n",
    "horse_country - この馬の出身国です。\n",
    "\n",
    "horse_type - 馬の性別、例：「Gelding」、「Mare」、「Horse」、「Rig」、「Colt」、「Filly\n",
    "\n",
    "horse_rating - レースの際にHKJCがこの馬に割り当てたレーティング番号\n",
    "\n",
    "horse_gear - レース中に馬が持っていたギアを表す文字列。使用されるコードの説明は、HKJCのウェブサイトに掲載されています。\n",
    "\n",
    "declared_weight - 宣言された馬と騎手の体重（単位：ポンド\n",
    "\n",
    "actual_weight - 馬が実際に運んだ重量、単位：ポンド\n",
    "\n",
    "draw - このレースの馬のポストポジション番号\n",
    "\n",
    "position_sec1 - レースのセクション1におけるこの馬の位置（順位）。\n",
    "\n",
    "position_sec2 - レース中のセクション2におけるこの馬の位置（順位）。\n",
    "\n",
    "position_sec3 - レースの第3区間でのこの馬の位置（順位）。\n",
    "\n",
    "position_sec4 - レースの第4区間でのこの馬の位置（順位）、もしあれば\n",
    "\n",
    "position_sec5 - レースの第5節でのこの馬の位置（順位）、もしあれば\n",
    "\n",
    "position_sec6 - レースの第6節でのこの馬の位置（順位）、もしあれば\n",
    "\n",
    "behind_sec1 - レースの第1区間でのこの馬の位置（先頭からの距離）。\n",
    "\n",
    "behind_sec2 - レースの第2区間でのこの馬の位置（先頭からの距離）。\n",
    "\n",
    "behind_sec3 - レースの第3区間でのこの馬の位置（先頭からの距離）。\n",
    "\n",
    "behind_sec4 - レースの第4区間でのこの馬の位置（先頭からの距離）、もしあれば\n",
    "\n",
    "behind_sec5 - レースの第5区間でのこの馬の位置（先頭からの距離）、もしあれば\n",
    "\n",
    "behind_sec6 - レースの第6区間でのこの馬の位置（先頭からの距離）、もしあれば\n",
    "\n",
    "time1 - この馬がレースの第1区間を通過するのにかかった時間(秒)\n",
    "\n",
    "time2 - この馬がレースの第2区間を通過するのに要した時間(秒)\n",
    "\n",
    "time3 - レースの第3区間を馬が通過するのに要した時間(秒)\n",
    "\n",
    "time4 - 第4区間がある場合、馬がそれを通過するのに要した時間(秒)\n",
    "\n",
    "time5 - レースの第5区間を通過するために馬が要した時間（秒）（もしあれば\n",
    "\n",
    "time6 - レースの第6区間を通過するために馬が要した時間(秒)\n",
    "\n",
    "finish_time - このレースでの馬のゴールタイム（秒）。\n",
    "\n",
    "win_odds - レース開始時のこの馬の勝利オッズ\n",
    "\n",
    "place_odds - レース開始時のこの馬の着順（1位、2位、3位）のオッズ。\n",
    "\n",
    "trainer_id - レース時の馬の調教師のユニークな識別子。\n",
    "\n",
    "jockey_id - このレースで馬に乗っているジョッキーのユニークな識別子。\n",
    "\n",
    "www.DeepL.com/Translator（無料版）で翻訳しました。"
   ]
  },
  {
   "cell_type": "markdown",
   "metadata": {},
   "source": [
    "# 仮説を立てる\n",
    "データについて，導きたい仮説と結論を整理してください．"
   ]
  },
  {
   "cell_type": "markdown",
   "metadata": {},
   "source": []
  },
  {
   "cell_type": "code",
   "execution_count": 30,
   "metadata": {},
   "outputs": [
    {
     "ename": "SyntaxError",
     "evalue": "invalid character in identifier (<ipython-input-30-dc996c096e15>, line 1)",
     "output_type": "error",
     "traceback": [
      "\u001b[1;36m  File \u001b[1;32m\"<ipython-input-30-dc996c096e15>\"\u001b[1;36m, line \u001b[1;32m1\u001b[0m\n\u001b[1;33m    オッズ、騎手、馬の体重、年齢などレース前からわかる数値が実際の順位に相関がある。\u001b[0m\n\u001b[1;37m                                           ^\u001b[0m\n\u001b[1;31mSyntaxError\u001b[0m\u001b[1;31m:\u001b[0m invalid character in identifier\n"
     ]
    }
   ],
   "source": [
    "オッズ、騎手、馬の体重、年齢などレース前からわかる数値が実際の順位に相関があると仮定。"
   ]
  },
  {
   "cell_type": "markdown",
   "metadata": {},
   "source": [
    "# データの分析"
   ]
  },
  {
   "cell_type": "code",
   "execution_count": 14,
   "metadata": {},
   "outputs": [
    {
     "data": {
      "text/plain": [
       "Index(['race_id', 'horse_no', 'horse_id', 'result', 'won', 'lengths_behind',\n",
       "       'horse_age', 'horse_country', 'horse_type', 'horse_rating',\n",
       "       'horse_gear', 'declared_weight', 'actual_weight', 'draw',\n",
       "       'position_sec1', 'position_sec2', 'position_sec3', 'position_sec4',\n",
       "       'position_sec5', 'position_sec6', 'behind_sec1', 'behind_sec2',\n",
       "       'behind_sec3', 'behind_sec4', 'behind_sec5', 'behind_sec6', 'time1',\n",
       "       'time2', 'time3', 'time4', 'time5', 'time6', 'finish_time', 'win_odds',\n",
       "       'place_odds', 'trainer_id', 'jockey_id'],\n",
       "      dtype='object')"
      ]
     },
     "execution_count": 14,
     "metadata": {},
     "output_type": "execute_result"
    }
   ],
   "source": [
    "data_df = pd.DataFrame(data, columns=feature_names)\n",
    "data_df.columns"
   ]
  },
  {
   "cell_type": "code",
   "execution_count": 12,
   "metadata": {},
   "outputs": [
    {
     "data": {
      "text/plain": [
       "0        10\n",
       "1         8\n",
       "2         7\n",
       "3         9\n",
       "4         6\n",
       "         ..\n",
       "79442     6\n",
       "79443     7\n",
       "79444    10\n",
       "79445     8\n",
       "79446    11\n",
       "Name: result, Length: 79447, dtype: int64"
      ]
     },
     "execution_count": 12,
     "metadata": {},
     "output_type": "execute_result"
    }
   ],
   "source": [
    "data_df[\"result\"]"
   ]
  },
  {
   "cell_type": "code",
   "execution_count": 13,
   "metadata": {},
   "outputs": [
    {
     "data": {
      "text/html": [
       "<div>\n",
       "<style scoped>\n",
       "    .dataframe tbody tr th:only-of-type {\n",
       "        vertical-align: middle;\n",
       "    }\n",
       "\n",
       "    .dataframe tbody tr th {\n",
       "        vertical-align: top;\n",
       "    }\n",
       "\n",
       "    .dataframe thead th {\n",
       "        text-align: right;\n",
       "    }\n",
       "</style>\n",
       "<table border=\"1\" class=\"dataframe\">\n",
       "  <thead>\n",
       "    <tr style=\"text-align: right;\">\n",
       "      <th></th>\n",
       "      <th>race_id</th>\n",
       "      <th>horse_no</th>\n",
       "      <th>horse_id</th>\n",
       "      <th>result</th>\n",
       "      <th>won</th>\n",
       "      <th>lengths_behind</th>\n",
       "      <th>horse_age</th>\n",
       "      <th>horse_rating</th>\n",
       "      <th>declared_weight</th>\n",
       "      <th>actual_weight</th>\n",
       "      <th>...</th>\n",
       "      <th>time2</th>\n",
       "      <th>time3</th>\n",
       "      <th>time4</th>\n",
       "      <th>time5</th>\n",
       "      <th>time6</th>\n",
       "      <th>finish_time</th>\n",
       "      <th>win_odds</th>\n",
       "      <th>place_odds</th>\n",
       "      <th>trainer_id</th>\n",
       "      <th>jockey_id</th>\n",
       "    </tr>\n",
       "  </thead>\n",
       "  <tbody>\n",
       "    <tr>\n",
       "      <th>count</th>\n",
       "      <td>79447.000000</td>\n",
       "      <td>79447.000000</td>\n",
       "      <td>79447.000000</td>\n",
       "      <td>79447.000000</td>\n",
       "      <td>79447.000000</td>\n",
       "      <td>79447.000000</td>\n",
       "      <td>79447.000000</td>\n",
       "      <td>79447.000000</td>\n",
       "      <td>79447.000000</td>\n",
       "      <td>79447.000000</td>\n",
       "      <td>...</td>\n",
       "      <td>79447.000000</td>\n",
       "      <td>79447.000000</td>\n",
       "      <td>46226.000000</td>\n",
       "      <td>10079.000000</td>\n",
       "      <td>1296.000000</td>\n",
       "      <td>79447.000000</td>\n",
       "      <td>79447.000000</td>\n",
       "      <td>75712.000000</td>\n",
       "      <td>79447.000000</td>\n",
       "      <td>79447.000000</td>\n",
       "    </tr>\n",
       "    <tr>\n",
       "      <th>mean</th>\n",
       "      <td>3173.352814</td>\n",
       "      <td>6.905623</td>\n",
       "      <td>2204.410525</td>\n",
       "      <td>6.838597</td>\n",
       "      <td>0.080053</td>\n",
       "      <td>6.108901</td>\n",
       "      <td>3.339346</td>\n",
       "      <td>61.034904</td>\n",
       "      <td>1104.953568</td>\n",
       "      <td>122.729656</td>\n",
       "      <td>...</td>\n",
       "      <td>22.928985</td>\n",
       "      <td>23.864054</td>\n",
       "      <td>24.039662</td>\n",
       "      <td>24.105221</td>\n",
       "      <td>24.350216</td>\n",
       "      <td>85.322914</td>\n",
       "      <td>28.812977</td>\n",
       "      <td>7.423177</td>\n",
       "      <td>79.793007</td>\n",
       "      <td>85.832341</td>\n",
       "    </tr>\n",
       "    <tr>\n",
       "      <th>std</th>\n",
       "      <td>1833.101494</td>\n",
       "      <td>3.760711</td>\n",
       "      <td>1275.049375</td>\n",
       "      <td>3.730498</td>\n",
       "      <td>0.271378</td>\n",
       "      <td>33.636209</td>\n",
       "      <td>0.876763</td>\n",
       "      <td>11.748788</td>\n",
       "      <td>62.347597</td>\n",
       "      <td>6.305496</td>\n",
       "      <td>...</td>\n",
       "      <td>3.599727</td>\n",
       "      <td>3.571163</td>\n",
       "      <td>4.663367</td>\n",
       "      <td>1.127963</td>\n",
       "      <td>1.314755</td>\n",
       "      <td>18.512883</td>\n",
       "      <td>30.097375</td>\n",
       "      <td>8.823430</td>\n",
       "      <td>45.118874</td>\n",
       "      <td>54.338105</td>\n",
       "    </tr>\n",
       "    <tr>\n",
       "      <th>min</th>\n",
       "      <td>0.000000</td>\n",
       "      <td>1.000000</td>\n",
       "      <td>0.000000</td>\n",
       "      <td>1.000000</td>\n",
       "      <td>0.000000</td>\n",
       "      <td>-0.500000</td>\n",
       "      <td>2.000000</td>\n",
       "      <td>10.000000</td>\n",
       "      <td>693.000000</td>\n",
       "      <td>103.000000</td>\n",
       "      <td>...</td>\n",
       "      <td>19.990000</td>\n",
       "      <td>21.000000</td>\n",
       "      <td>21.200000</td>\n",
       "      <td>21.420000</td>\n",
       "      <td>21.500000</td>\n",
       "      <td>55.160000</td>\n",
       "      <td>1.000000</td>\n",
       "      <td>1.000000</td>\n",
       "      <td>0.000000</td>\n",
       "      <td>0.000000</td>\n",
       "    </tr>\n",
       "    <tr>\n",
       "      <th>25%</th>\n",
       "      <td>1586.000000</td>\n",
       "      <td>4.000000</td>\n",
       "      <td>1085.000000</td>\n",
       "      <td>4.000000</td>\n",
       "      <td>0.000000</td>\n",
       "      <td>1.750000</td>\n",
       "      <td>3.000000</td>\n",
       "      <td>60.000000</td>\n",
       "      <td>1062.000000</td>\n",
       "      <td>118.000000</td>\n",
       "      <td>...</td>\n",
       "      <td>22.290000</td>\n",
       "      <td>23.230000</td>\n",
       "      <td>23.320000</td>\n",
       "      <td>23.410000</td>\n",
       "      <td>23.570000</td>\n",
       "      <td>70.590000</td>\n",
       "      <td>7.700000</td>\n",
       "      <td>2.400000</td>\n",
       "      <td>47.000000</td>\n",
       "      <td>39.000000</td>\n",
       "    </tr>\n",
       "    <tr>\n",
       "      <th>50%</th>\n",
       "      <td>3174.000000</td>\n",
       "      <td>7.000000</td>\n",
       "      <td>2209.000000</td>\n",
       "      <td>7.000000</td>\n",
       "      <td>0.000000</td>\n",
       "      <td>4.000000</td>\n",
       "      <td>3.000000</td>\n",
       "      <td>60.000000</td>\n",
       "      <td>1102.000000</td>\n",
       "      <td>123.000000</td>\n",
       "      <td>...</td>\n",
       "      <td>22.870000</td>\n",
       "      <td>23.760000</td>\n",
       "      <td>23.890000</td>\n",
       "      <td>23.960000</td>\n",
       "      <td>24.120000</td>\n",
       "      <td>83.350000</td>\n",
       "      <td>15.000000</td>\n",
       "      <td>4.100000</td>\n",
       "      <td>75.000000</td>\n",
       "      <td>76.000000</td>\n",
       "    </tr>\n",
       "    <tr>\n",
       "      <th>75%</th>\n",
       "      <td>4764.500000</td>\n",
       "      <td>10.000000</td>\n",
       "      <td>3308.000000</td>\n",
       "      <td>10.000000</td>\n",
       "      <td>0.000000</td>\n",
       "      <td>6.750000</td>\n",
       "      <td>3.000000</td>\n",
       "      <td>60.000000</td>\n",
       "      <td>1146.000000</td>\n",
       "      <td>128.000000</td>\n",
       "      <td>...</td>\n",
       "      <td>23.520000</td>\n",
       "      <td>24.410000</td>\n",
       "      <td>24.560000</td>\n",
       "      <td>24.630000</td>\n",
       "      <td>24.820000</td>\n",
       "      <td>100.780000</td>\n",
       "      <td>38.000000</td>\n",
       "      <td>8.600000</td>\n",
       "      <td>118.000000</td>\n",
       "      <td>138.000000</td>\n",
       "    </tr>\n",
       "    <tr>\n",
       "      <th>max</th>\n",
       "      <td>6348.000000</td>\n",
       "      <td>14.000000</td>\n",
       "      <td>4404.000000</td>\n",
       "      <td>14.000000</td>\n",
       "      <td>1.000000</td>\n",
       "      <td>999.000000</td>\n",
       "      <td>10.000000</td>\n",
       "      <td>138.000000</td>\n",
       "      <td>1369.000000</td>\n",
       "      <td>133.000000</td>\n",
       "      <td>...</td>\n",
       "      <td>999.000000</td>\n",
       "      <td>999.000000</td>\n",
       "      <td>999.000000</td>\n",
       "      <td>49.570000</td>\n",
       "      <td>34.150000</td>\n",
       "      <td>163.580000</td>\n",
       "      <td>99.000000</td>\n",
       "      <td>101.000000</td>\n",
       "      <td>175.000000</td>\n",
       "      <td>185.000000</td>\n",
       "    </tr>\n",
       "  </tbody>\n",
       "</table>\n",
       "<p>8 rows × 34 columns</p>\n",
       "</div>"
      ],
      "text/plain": [
       "            race_id      horse_no      horse_id        result           won  \\\n",
       "count  79447.000000  79447.000000  79447.000000  79447.000000  79447.000000   \n",
       "mean    3173.352814      6.905623   2204.410525      6.838597      0.080053   \n",
       "std     1833.101494      3.760711   1275.049375      3.730498      0.271378   \n",
       "min        0.000000      1.000000      0.000000      1.000000      0.000000   \n",
       "25%     1586.000000      4.000000   1085.000000      4.000000      0.000000   \n",
       "50%     3174.000000      7.000000   2209.000000      7.000000      0.000000   \n",
       "75%     4764.500000     10.000000   3308.000000     10.000000      0.000000   \n",
       "max     6348.000000     14.000000   4404.000000     14.000000      1.000000   \n",
       "\n",
       "       lengths_behind     horse_age  horse_rating  declared_weight  \\\n",
       "count    79447.000000  79447.000000  79447.000000     79447.000000   \n",
       "mean         6.108901      3.339346     61.034904      1104.953568   \n",
       "std         33.636209      0.876763     11.748788        62.347597   \n",
       "min         -0.500000      2.000000     10.000000       693.000000   \n",
       "25%          1.750000      3.000000     60.000000      1062.000000   \n",
       "50%          4.000000      3.000000     60.000000      1102.000000   \n",
       "75%          6.750000      3.000000     60.000000      1146.000000   \n",
       "max        999.000000     10.000000    138.000000      1369.000000   \n",
       "\n",
       "       actual_weight  ...         time2         time3         time4  \\\n",
       "count   79447.000000  ...  79447.000000  79447.000000  46226.000000   \n",
       "mean      122.729656  ...     22.928985     23.864054     24.039662   \n",
       "std         6.305496  ...      3.599727      3.571163      4.663367   \n",
       "min       103.000000  ...     19.990000     21.000000     21.200000   \n",
       "25%       118.000000  ...     22.290000     23.230000     23.320000   \n",
       "50%       123.000000  ...     22.870000     23.760000     23.890000   \n",
       "75%       128.000000  ...     23.520000     24.410000     24.560000   \n",
       "max       133.000000  ...    999.000000    999.000000    999.000000   \n",
       "\n",
       "              time5        time6   finish_time      win_odds    place_odds  \\\n",
       "count  10079.000000  1296.000000  79447.000000  79447.000000  75712.000000   \n",
       "mean      24.105221    24.350216     85.322914     28.812977      7.423177   \n",
       "std        1.127963     1.314755     18.512883     30.097375      8.823430   \n",
       "min       21.420000    21.500000     55.160000      1.000000      1.000000   \n",
       "25%       23.410000    23.570000     70.590000      7.700000      2.400000   \n",
       "50%       23.960000    24.120000     83.350000     15.000000      4.100000   \n",
       "75%       24.630000    24.820000    100.780000     38.000000      8.600000   \n",
       "max       49.570000    34.150000    163.580000     99.000000    101.000000   \n",
       "\n",
       "         trainer_id     jockey_id  \n",
       "count  79447.000000  79447.000000  \n",
       "mean      79.793007     85.832341  \n",
       "std       45.118874     54.338105  \n",
       "min        0.000000      0.000000  \n",
       "25%       47.000000     39.000000  \n",
       "50%       75.000000     76.000000  \n",
       "75%      118.000000    138.000000  \n",
       "max      175.000000    185.000000  \n",
       "\n",
       "[8 rows x 34 columns]"
      ]
     },
     "execution_count": 13,
     "metadata": {},
     "output_type": "execute_result"
    }
   ],
   "source": [
    "data_df.describe()"
   ]
  },
  {
   "cell_type": "code",
   "execution_count": 15,
   "metadata": {},
   "outputs": [],
   "source": [
    "data_df.values\n",
    "#使わないデータはすべて除外\n",
    "data_df=data_df.drop(['race_id',  'horse_id', 'won',\n",
    "       'lengths_behind', 'horse_country', 'horse_type',\n",
    "        'horse_gear', 'position_sec1', 'position_sec2', 'position_sec3',\n",
    "       'position_sec4', 'position_sec5', 'position_sec6', 'behind_sec1',\n",
    "       'behind_sec2', 'behind_sec3', 'behind_sec4', 'behind_sec5',\n",
    "       'behind_sec6', 'time1', 'time2', 'time3', 'time4', 'time5',\n",
    "       'time6', 'finish_time', 'trainer_id',\n",
    "       'jockey_id'],axis=1)"
   ]
  },
  {
   "cell_type": "code",
   "execution_count": 22,
   "metadata": {},
   "outputs": [
    {
     "data": {
      "text/html": [
       "<div>\n",
       "<style scoped>\n",
       "    .dataframe tbody tr th:only-of-type {\n",
       "        vertical-align: middle;\n",
       "    }\n",
       "\n",
       "    .dataframe tbody tr th {\n",
       "        vertical-align: top;\n",
       "    }\n",
       "\n",
       "    .dataframe thead th {\n",
       "        text-align: right;\n",
       "    }\n",
       "</style>\n",
       "<table border=\"1\" class=\"dataframe\">\n",
       "  <thead>\n",
       "    <tr style=\"text-align: right;\">\n",
       "      <th></th>\n",
       "      <th>horse_no</th>\n",
       "      <th>horse_age</th>\n",
       "      <th>horse_rating</th>\n",
       "      <th>declared_weight</th>\n",
       "      <th>actual_weight</th>\n",
       "      <th>draw</th>\n",
       "      <th>win_odds</th>\n",
       "      <th>place_odds</th>\n",
       "    </tr>\n",
       "  </thead>\n",
       "  <tbody>\n",
       "    <tr>\n",
       "      <th>0</th>\n",
       "      <td>1</td>\n",
       "      <td>3</td>\n",
       "      <td>60</td>\n",
       "      <td>1020.0</td>\n",
       "      <td>133</td>\n",
       "      <td>7</td>\n",
       "      <td>9.7</td>\n",
       "      <td>3.7</td>\n",
       "    </tr>\n",
       "    <tr>\n",
       "      <th>1</th>\n",
       "      <td>2</td>\n",
       "      <td>3</td>\n",
       "      <td>60</td>\n",
       "      <td>980.0</td>\n",
       "      <td>133</td>\n",
       "      <td>12</td>\n",
       "      <td>16.0</td>\n",
       "      <td>4.9</td>\n",
       "    </tr>\n",
       "    <tr>\n",
       "      <th>2</th>\n",
       "      <td>3</td>\n",
       "      <td>3</td>\n",
       "      <td>60</td>\n",
       "      <td>1082.0</td>\n",
       "      <td>132</td>\n",
       "      <td>8</td>\n",
       "      <td>3.5</td>\n",
       "      <td>1.5</td>\n",
       "    </tr>\n",
       "    <tr>\n",
       "      <th>3</th>\n",
       "      <td>4</td>\n",
       "      <td>3</td>\n",
       "      <td>60</td>\n",
       "      <td>1118.0</td>\n",
       "      <td>127</td>\n",
       "      <td>13</td>\n",
       "      <td>39.0</td>\n",
       "      <td>11.0</td>\n",
       "    </tr>\n",
       "    <tr>\n",
       "      <th>4</th>\n",
       "      <td>5</td>\n",
       "      <td>3</td>\n",
       "      <td>60</td>\n",
       "      <td>972.0</td>\n",
       "      <td>131</td>\n",
       "      <td>14</td>\n",
       "      <td>50.0</td>\n",
       "      <td>14.0</td>\n",
       "    </tr>\n",
       "    <tr>\n",
       "      <th>...</th>\n",
       "      <td>...</td>\n",
       "      <td>...</td>\n",
       "      <td>...</td>\n",
       "      <td>...</td>\n",
       "      <td>...</td>\n",
       "      <td>...</td>\n",
       "      <td>...</td>\n",
       "      <td>...</td>\n",
       "    </tr>\n",
       "    <tr>\n",
       "      <th>79442</th>\n",
       "      <td>10</td>\n",
       "      <td>5</td>\n",
       "      <td>87</td>\n",
       "      <td>1191.0</td>\n",
       "      <td>122</td>\n",
       "      <td>6</td>\n",
       "      <td>99.0</td>\n",
       "      <td>NaN</td>\n",
       "    </tr>\n",
       "    <tr>\n",
       "      <th>79443</th>\n",
       "      <td>11</td>\n",
       "      <td>5</td>\n",
       "      <td>84</td>\n",
       "      <td>1070.0</td>\n",
       "      <td>119</td>\n",
       "      <td>4</td>\n",
       "      <td>99.0</td>\n",
       "      <td>NaN</td>\n",
       "    </tr>\n",
       "    <tr>\n",
       "      <th>79444</th>\n",
       "      <td>12</td>\n",
       "      <td>5</td>\n",
       "      <td>83</td>\n",
       "      <td>1148.0</td>\n",
       "      <td>120</td>\n",
       "      <td>1</td>\n",
       "      <td>99.0</td>\n",
       "      <td>NaN</td>\n",
       "    </tr>\n",
       "    <tr>\n",
       "      <th>79445</th>\n",
       "      <td>13</td>\n",
       "      <td>3</td>\n",
       "      <td>82</td>\n",
       "      <td>1266.0</td>\n",
       "      <td>119</td>\n",
       "      <td>12</td>\n",
       "      <td>4.6</td>\n",
       "      <td>NaN</td>\n",
       "    </tr>\n",
       "    <tr>\n",
       "      <th>79446</th>\n",
       "      <td>14</td>\n",
       "      <td>3</td>\n",
       "      <td>81</td>\n",
       "      <td>1092.0</td>\n",
       "      <td>118</td>\n",
       "      <td>2</td>\n",
       "      <td>99.0</td>\n",
       "      <td>NaN</td>\n",
       "    </tr>\n",
       "  </tbody>\n",
       "</table>\n",
       "<p>79447 rows × 8 columns</p>\n",
       "</div>"
      ],
      "text/plain": [
       "       horse_no  horse_age  horse_rating  declared_weight  actual_weight  \\\n",
       "0             1          3            60           1020.0            133   \n",
       "1             2          3            60            980.0            133   \n",
       "2             3          3            60           1082.0            132   \n",
       "3             4          3            60           1118.0            127   \n",
       "4             5          3            60            972.0            131   \n",
       "...         ...        ...           ...              ...            ...   \n",
       "79442        10          5            87           1191.0            122   \n",
       "79443        11          5            84           1070.0            119   \n",
       "79444        12          5            83           1148.0            120   \n",
       "79445        13          3            82           1266.0            119   \n",
       "79446        14          3            81           1092.0            118   \n",
       "\n",
       "       draw  win_odds  place_odds  \n",
       "0         7       9.7         3.7  \n",
       "1        12      16.0         4.9  \n",
       "2         8       3.5         1.5  \n",
       "3        13      39.0        11.0  \n",
       "4        14      50.0        14.0  \n",
       "...     ...       ...         ...  \n",
       "79442     6      99.0         NaN  \n",
       "79443     4      99.0         NaN  \n",
       "79444     1      99.0         NaN  \n",
       "79445    12       4.6         NaN  \n",
       "79446     2      99.0         NaN  \n",
       "\n",
       "[79447 rows x 8 columns]"
      ]
     },
     "execution_count": 22,
     "metadata": {},
     "output_type": "execute_result"
    }
   ],
   "source": [
    "data_df"
   ]
  },
  {
   "cell_type": "code",
   "execution_count": 16,
   "metadata": {},
   "outputs": [
    {
     "data": {
      "text/html": [
       "<div>\n",
       "<style scoped>\n",
       "    .dataframe tbody tr th:only-of-type {\n",
       "        vertical-align: middle;\n",
       "    }\n",
       "\n",
       "    .dataframe tbody tr th {\n",
       "        vertical-align: top;\n",
       "    }\n",
       "\n",
       "    .dataframe thead th {\n",
       "        text-align: right;\n",
       "    }\n",
       "</style>\n",
       "<table border=\"1\" class=\"dataframe\">\n",
       "  <thead>\n",
       "    <tr style=\"text-align: right;\">\n",
       "      <th></th>\n",
       "      <th>horse_no</th>\n",
       "      <th>horse_age</th>\n",
       "      <th>horse_rating</th>\n",
       "      <th>declared_weight</th>\n",
       "      <th>actual_weight</th>\n",
       "      <th>draw</th>\n",
       "      <th>win_odds</th>\n",
       "      <th>place_odds</th>\n",
       "      <th>result</th>\n",
       "    </tr>\n",
       "  </thead>\n",
       "  <tbody>\n",
       "    <tr>\n",
       "      <th>0</th>\n",
       "      <td>0.000000</td>\n",
       "      <td>0.125</td>\n",
       "      <td>0.390625</td>\n",
       "      <td>0.483728</td>\n",
       "      <td>1.000000</td>\n",
       "      <td>0.428571</td>\n",
       "      <td>0.088776</td>\n",
       "      <td>0.027</td>\n",
       "      <td>10</td>\n",
       "    </tr>\n",
       "    <tr>\n",
       "      <th>1</th>\n",
       "      <td>0.076923</td>\n",
       "      <td>0.125</td>\n",
       "      <td>0.390625</td>\n",
       "      <td>0.424556</td>\n",
       "      <td>1.000000</td>\n",
       "      <td>0.785714</td>\n",
       "      <td>0.153061</td>\n",
       "      <td>0.039</td>\n",
       "      <td>8</td>\n",
       "    </tr>\n",
       "    <tr>\n",
       "      <th>2</th>\n",
       "      <td>0.153846</td>\n",
       "      <td>0.125</td>\n",
       "      <td>0.390625</td>\n",
       "      <td>0.575444</td>\n",
       "      <td>0.966667</td>\n",
       "      <td>0.500000</td>\n",
       "      <td>0.025510</td>\n",
       "      <td>0.005</td>\n",
       "      <td>7</td>\n",
       "    </tr>\n",
       "    <tr>\n",
       "      <th>3</th>\n",
       "      <td>0.230769</td>\n",
       "      <td>0.125</td>\n",
       "      <td>0.390625</td>\n",
       "      <td>0.628698</td>\n",
       "      <td>0.800000</td>\n",
       "      <td>0.857143</td>\n",
       "      <td>0.387755</td>\n",
       "      <td>0.100</td>\n",
       "      <td>9</td>\n",
       "    </tr>\n",
       "    <tr>\n",
       "      <th>4</th>\n",
       "      <td>0.307692</td>\n",
       "      <td>0.125</td>\n",
       "      <td>0.390625</td>\n",
       "      <td>0.412722</td>\n",
       "      <td>0.933333</td>\n",
       "      <td>0.928571</td>\n",
       "      <td>0.500000</td>\n",
       "      <td>0.130</td>\n",
       "      <td>6</td>\n",
       "    </tr>\n",
       "  </tbody>\n",
       "</table>\n",
       "</div>"
      ],
      "text/plain": [
       "   horse_no  horse_age  horse_rating  declared_weight  actual_weight  \\\n",
       "0  0.000000      0.125      0.390625         0.483728       1.000000   \n",
       "1  0.076923      0.125      0.390625         0.424556       1.000000   \n",
       "2  0.153846      0.125      0.390625         0.575444       0.966667   \n",
       "3  0.230769      0.125      0.390625         0.628698       0.800000   \n",
       "4  0.307692      0.125      0.390625         0.412722       0.933333   \n",
       "\n",
       "       draw  win_odds  place_odds  result  \n",
       "0  0.428571  0.088776       0.027      10  \n",
       "1  0.785714  0.153061       0.039       8  \n",
       "2  0.500000  0.025510       0.005       7  \n",
       "3  0.857143  0.387755       0.100       9  \n",
       "4  0.928571  0.500000       0.130       6  "
      ]
     },
     "execution_count": 16,
     "metadata": {},
     "output_type": "execute_result"
    }
   ],
   "source": [
    "from sklearn.preprocessing import MinMaxScaler\n",
    "min_max_scaler = MinMaxScaler()\n",
    "result=data_df['result']\n",
    "data_df=data_df.drop('result',axis=1)\n",
    "data_df = pd.DataFrame(min_max_scaler.fit_transform(data_df.values), columns=data_df.columns.values)\n",
    "data_df = pd.concat([data_df, pd.DataFrame(result, columns=[\"result\"])], axis=1)\n",
    "data_df.head()"
   ]
  },
  {
   "cell_type": "code",
   "execution_count": 17,
   "metadata": {},
   "outputs": [
    {
     "data": {
      "text/plain": [
       "<matplotlib.colorbar.Colorbar at 0x21182044df0>"
      ]
     },
     "execution_count": 17,
     "metadata": {},
     "output_type": "execute_result"
    },
    {
     "data": {
      "image/png": "[encoded data removed]",
      "text/plain": [
       "<Figure size 864x864 with 2 Axes>"
      ]
     },
     "metadata": {
      "needs_background": "light"
     },
     "output_type": "display_data"
    }
   ],
   "source": [
    "fig = plt.figure(figsize=(12, 12))\n",
    "plt.matshow(data_df.corr(\"pearson\"), fignum=fig.number)\n",
    "plt.xticks(range(data_df.shape[1]), data_df.columns, fontsize=14, rotation=90)\n",
    "plt.yticks(range(data_df.shape[1]), data_df.columns, fontsize=14)\n",
    "plt.colorbar()"
   ]
  },
  {
   "cell_type": "markdown",
   "metadata": {},
   "source": [
    "# モデルの訓練\n",
    "データは分割するようにしてください．交叉検証についてはまだ説明したいので自由にしてください．\n",
    "\n",
    "また，モデルの訓練およびデータ分割時に乱数の指定がないなど再現性がなさそうなコードは認めないことにします．\n",
    "\n",
    "モデルは自由ですが，sklearn を想定しています．自作ライブラリも可ですが，自作の場合，該当箇所は適当に読みます．"
   ]
  },
  {
   "cell_type": "code",
   "execution_count": 18,
   "metadata": {},
   "outputs": [
    {
     "data": {
      "text/plain": [
       "[['horse_no', 'actual_weight', -0.8002512951940169],\n",
       " ['horse_no', 'win_odds', 0.20063883524624793],\n",
       " ['horse_no', 'place_odds', 0.1831374333635721],\n",
       " ['actual_weight', 'horse_no', -0.8002512951940169],\n",
       " ['actual_weight', 'win_odds', -0.20086159536770137],\n",
       " ['actual_weight', 'place_odds', -0.17343803487803935],\n",
       " ['draw', 'win_odds', 0.15478165561864637],\n",
       " ['win_odds', 'horse_no', 0.20063883524624793],\n",
       " ['win_odds', 'actual_weight', -0.20086159536770137],\n",
       " ['win_odds', 'draw', 0.15478165561864637],\n",
       " ['win_odds', 'place_odds', 0.8803013740830838],\n",
       " ['place_odds', 'horse_no', 0.1831374333635721],\n",
       " ['place_odds', 'actual_weight', -0.17343803487803935],\n",
       " ['place_odds', 'win_odds', 0.8803013740830838]]"
      ]
     },
     "execution_count": 18,
     "metadata": {},
     "output_type": "execute_result"
    }
   ],
   "source": [
    "corr = data_df.corr().values\n",
    "[[data_df.columns[i], data_df.columns[j], corr[i][j]] for i in range(data_df.shape[1]-1) for j in range(data_df.shape[1]-1) if abs(corr[i][j]) >= 0.15 and corr[i][j] != 1]"
   ]
  },
  {
   "cell_type": "code",
   "execution_count": 19,
   "metadata": {},
   "outputs": [
    {
     "data": {
      "text/html": [
       "<div>\n",
       "<style scoped>\n",
       "    .dataframe tbody tr th:only-of-type {\n",
       "        vertical-align: middle;\n",
       "    }\n",
       "\n",
       "    .dataframe tbody tr th {\n",
       "        vertical-align: top;\n",
       "    }\n",
       "\n",
       "    .dataframe thead th {\n",
       "        text-align: right;\n",
       "    }\n",
       "</style>\n",
       "<table border=\"1\" class=\"dataframe\">\n",
       "  <thead>\n",
       "    <tr style=\"text-align: right;\">\n",
       "      <th></th>\n",
       "      <th>horse_no</th>\n",
       "      <th>horse_age</th>\n",
       "      <th>horse_rating</th>\n",
       "      <th>declared_weight</th>\n",
       "      <th>actual_weight</th>\n",
       "      <th>draw</th>\n",
       "      <th>win_odds</th>\n",
       "      <th>place_odds</th>\n",
       "      <th>result</th>\n",
       "      <th>result__1</th>\n",
       "      <th>...</th>\n",
       "      <th>result__5</th>\n",
       "      <th>result__6</th>\n",
       "      <th>result__7</th>\n",
       "      <th>result__8</th>\n",
       "      <th>result__9</th>\n",
       "      <th>result__10</th>\n",
       "      <th>result__11</th>\n",
       "      <th>result__12</th>\n",
       "      <th>result__13</th>\n",
       "      <th>result__14</th>\n",
       "    </tr>\n",
       "  </thead>\n",
       "  <tbody>\n",
       "    <tr>\n",
       "      <th>0</th>\n",
       "      <td>0.000000</td>\n",
       "      <td>0.125</td>\n",
       "      <td>0.390625</td>\n",
       "      <td>0.483728</td>\n",
       "      <td>1.000000</td>\n",
       "      <td>0.428571</td>\n",
       "      <td>0.088776</td>\n",
       "      <td>0.027</td>\n",
       "      <td>10</td>\n",
       "      <td>0</td>\n",
       "      <td>...</td>\n",
       "      <td>0</td>\n",
       "      <td>0</td>\n",
       "      <td>0</td>\n",
       "      <td>0</td>\n",
       "      <td>0</td>\n",
       "      <td>1</td>\n",
       "      <td>0</td>\n",
       "      <td>0</td>\n",
       "      <td>0</td>\n",
       "      <td>0</td>\n",
       "    </tr>\n",
       "    <tr>\n",
       "      <th>1</th>\n",
       "      <td>0.076923</td>\n",
       "      <td>0.125</td>\n",
       "      <td>0.390625</td>\n",
       "      <td>0.424556</td>\n",
       "      <td>1.000000</td>\n",
       "      <td>0.785714</td>\n",
       "      <td>0.153061</td>\n",
       "      <td>0.039</td>\n",
       "      <td>8</td>\n",
       "      <td>0</td>\n",
       "      <td>...</td>\n",
       "      <td>0</td>\n",
       "      <td>0</td>\n",
       "      <td>0</td>\n",
       "      <td>1</td>\n",
       "      <td>0</td>\n",
       "      <td>0</td>\n",
       "      <td>0</td>\n",
       "      <td>0</td>\n",
       "      <td>0</td>\n",
       "      <td>0</td>\n",
       "    </tr>\n",
       "    <tr>\n",
       "      <th>2</th>\n",
       "      <td>0.153846</td>\n",
       "      <td>0.125</td>\n",
       "      <td>0.390625</td>\n",
       "      <td>0.575444</td>\n",
       "      <td>0.966667</td>\n",
       "      <td>0.500000</td>\n",
       "      <td>0.025510</td>\n",
       "      <td>0.005</td>\n",
       "      <td>7</td>\n",
       "      <td>0</td>\n",
       "      <td>...</td>\n",
       "      <td>0</td>\n",
       "      <td>0</td>\n",
       "      <td>1</td>\n",
       "      <td>0</td>\n",
       "      <td>0</td>\n",
       "      <td>0</td>\n",
       "      <td>0</td>\n",
       "      <td>0</td>\n",
       "      <td>0</td>\n",
       "      <td>0</td>\n",
       "    </tr>\n",
       "    <tr>\n",
       "      <th>3</th>\n",
       "      <td>0.230769</td>\n",
       "      <td>0.125</td>\n",
       "      <td>0.390625</td>\n",
       "      <td>0.628698</td>\n",
       "      <td>0.800000</td>\n",
       "      <td>0.857143</td>\n",
       "      <td>0.387755</td>\n",
       "      <td>0.100</td>\n",
       "      <td>9</td>\n",
       "      <td>0</td>\n",
       "      <td>...</td>\n",
       "      <td>0</td>\n",
       "      <td>0</td>\n",
       "      <td>0</td>\n",
       "      <td>0</td>\n",
       "      <td>1</td>\n",
       "      <td>0</td>\n",
       "      <td>0</td>\n",
       "      <td>0</td>\n",
       "      <td>0</td>\n",
       "      <td>0</td>\n",
       "    </tr>\n",
       "    <tr>\n",
       "      <th>4</th>\n",
       "      <td>0.307692</td>\n",
       "      <td>0.125</td>\n",
       "      <td>0.390625</td>\n",
       "      <td>0.412722</td>\n",
       "      <td>0.933333</td>\n",
       "      <td>0.928571</td>\n",
       "      <td>0.500000</td>\n",
       "      <td>0.130</td>\n",
       "      <td>6</td>\n",
       "      <td>0</td>\n",
       "      <td>...</td>\n",
       "      <td>0</td>\n",
       "      <td>1</td>\n",
       "      <td>0</td>\n",
       "      <td>0</td>\n",
       "      <td>0</td>\n",
       "      <td>0</td>\n",
       "      <td>0</td>\n",
       "      <td>0</td>\n",
       "      <td>0</td>\n",
       "      <td>0</td>\n",
       "    </tr>\n",
       "  </tbody>\n",
       "</table>\n",
       "<p>5 rows × 23 columns</p>\n",
       "</div>"
      ],
      "text/plain": [
       "   horse_no  horse_age  horse_rating  declared_weight  actual_weight  \\\n",
       "0  0.000000      0.125      0.390625         0.483728       1.000000   \n",
       "1  0.076923      0.125      0.390625         0.424556       1.000000   \n",
       "2  0.153846      0.125      0.390625         0.575444       0.966667   \n",
       "3  0.230769      0.125      0.390625         0.628698       0.800000   \n",
       "4  0.307692      0.125      0.390625         0.412722       0.933333   \n",
       "\n",
       "       draw  win_odds  place_odds  result  result__1  ...  result__5  \\\n",
       "0  0.428571  0.088776       0.027      10          0  ...          0   \n",
       "1  0.785714  0.153061       0.039       8          0  ...          0   \n",
       "2  0.500000  0.025510       0.005       7          0  ...          0   \n",
       "3  0.857143  0.387755       0.100       9          0  ...          0   \n",
       "4  0.928571  0.500000       0.130       6          0  ...          0   \n",
       "\n",
       "   result__6  result__7  result__8  result__9  result__10  result__11  \\\n",
       "0          0          0          0          0           1           0   \n",
       "1          0          0          1          0           0           0   \n",
       "2          0          1          0          0           0           0   \n",
       "3          0          0          0          1           0           0   \n",
       "4          1          0          0          0           0           0   \n",
       "\n",
       "   result__12  result__13  result__14  \n",
       "0           0           0           0  \n",
       "1           0           0           0  \n",
       "2           0           0           0  \n",
       "3           0           0           0  \n",
       "4           0           0           0  \n",
       "\n",
       "[5 rows x 23 columns]"
      ]
     },
     "execution_count": 19,
     "metadata": {},
     "output_type": "execute_result"
    }
   ],
   "source": [
    "data_df_dummy = pd.concat([data_df, pd.get_dummies(data_df[\"result\"], prefix=\"result_\")], axis=1)\n",
    "data_df_dummy.head()"
   ]
  },
  {
   "cell_type": "code",
   "execution_count": 31,
   "metadata": {},
   "outputs": [
    {
     "data": {
      "text/plain": [
       "<matplotlib.colorbar.Colorbar at 0x2ad626c2340>"
      ]
     },
     "execution_count": 31,
     "metadata": {},
     "output_type": "execute_result"
    },
    {
     "data": {
      "image/png": "[encoded data removed]",
      "text/plain": [
       "<Figure size 864x864 with 2 Axes>"
      ]
     },
     "metadata": {
      "needs_background": "light"
     },
     "output_type": "display_data"
    }
   ],
   "source": [
    "fig = plt.figure(figsize=(12, 12))\n",
    "plt.matshow(data_df_dummy.corr(\"pearson\"), fignum=fig.number)\n",
    "plt.xticks(range(data_df_dummy.shape[1]), data_df_dummy.columns, fontsize=14, rotation=90)\n",
    "plt.yticks(range(data_df_dummy.shape[1]), data_df_dummy.columns, fontsize=14)\n",
    "plt.colorbar()"
   ]
  },
  {
   "cell_type": "code",
   "execution_count": 20,
   "metadata": {
    "scrolled": true
   },
   "outputs": [
    {
     "data": {
      "text/plain": [
       "[['horse_no', 'actual_weight', -0.8002512951940169],\n",
       " ['horse_no', 'win_odds', 0.20063883524624793],\n",
       " ['horse_no', 'place_odds', 0.1831374333635721],\n",
       " ['actual_weight', 'horse_no', -0.8002512951940169],\n",
       " ['actual_weight', 'win_odds', -0.20086159536770137],\n",
       " ['actual_weight', 'place_odds', -0.17343803487803935],\n",
       " ['draw', 'win_odds', 0.15478165561864637],\n",
       " ['win_odds', 'horse_no', 0.20063883524624793],\n",
       " ['win_odds', 'actual_weight', -0.20086159536770137],\n",
       " ['win_odds', 'draw', 0.15478165561864637],\n",
       " ['win_odds', 'place_odds', 0.8803013740830838],\n",
       " ['win_odds', 'result', 0.47056227994397554],\n",
       " ['win_odds', 'result__1', -0.19079005239979446],\n",
       " ['win_odds', 'result__2', -0.16477566807681235],\n",
       " ['win_odds', 'result__12', 0.18617145974629373],\n",
       " ['win_odds', 'result__13', 0.18120304338234844],\n",
       " ['place_odds', 'horse_no', 0.1831374333635721],\n",
       " ['place_odds', 'actual_weight', -0.17343803487803935],\n",
       " ['place_odds', 'win_odds', 0.8803013740830838],\n",
       " ['place_odds', 'result', 0.4399043027141292],\n",
       " ['place_odds', 'result__1', -0.15618799901712194],\n",
       " ['place_odds', 'result__12', 0.17889813885428776],\n",
       " ['place_odds', 'result__13', 0.19837518286281175],\n",
       " ['result', 'win_odds', 0.47056227994397554],\n",
       " ['result', 'place_odds', 0.4399043027141292],\n",
       " ['result', 'result__1', -0.4616926015624996],\n",
       " ['result', 'result__2', -0.38222414282561656],\n",
       " ['result', 'result__3', -0.3035147565549834],\n",
       " ['result', 'result__4', -0.2245798180791351],\n",
       " ['result', 'result__9', 0.1688912086099535],\n",
       " ['result', 'result__10', 0.24493549400677236],\n",
       " ['result', 'result__11', 0.31586387753071676],\n",
       " ['result', 'result__12', 0.3738570802221683],\n",
       " ['result', 'result__13', 0.31374665014256337],\n",
       " ['result__1', 'win_odds', -0.19079005239979446],\n",
       " ['result__1', 'place_odds', -0.15618799901712194],\n",
       " ['result__1', 'result', -0.4616926015624996],\n",
       " ['result__2', 'win_odds', -0.16477566807681235],\n",
       " ['result__2', 'result', -0.38222414282561656],\n",
       " ['result__3', 'result', -0.3035147565549834],\n",
       " ['result__4', 'result', -0.2245798180791351],\n",
       " ['result__9', 'result', 0.1688912086099535],\n",
       " ['result__10', 'result', 0.24493549400677236],\n",
       " ['result__11', 'result', 0.31586387753071676],\n",
       " ['result__12', 'win_odds', 0.18617145974629373],\n",
       " ['result__12', 'place_odds', 0.17889813885428776],\n",
       " ['result__12', 'result', 0.3738570802221683],\n",
       " ['result__13', 'win_odds', 0.18120304338234844],\n",
       " ['result__13', 'place_odds', 0.19837518286281175],\n",
       " ['result__13', 'result', 0.31374665014256337]]"
      ]
     },
     "execution_count": 20,
     "metadata": {},
     "output_type": "execute_result"
    }
   ],
   "source": [
    "corr = data_df_dummy.corr().values\n",
    "[[data_df_dummy.columns[i], data_df_dummy.columns[j], corr[i][j]] for i in range(data_df_dummy.shape[1]-1) for j in range(data_df_dummy.shape[1]-1) if abs(corr[i][j]) >= 0.15 and corr[i][j] != 1]"
   ]
  },
  {
   "cell_type": "code",
   "execution_count": 21,
   "metadata": {},
   "outputs": [],
   "source": [
    "def correlation_ratio(X, Y):\n",
    "    c = 0\n",
    "    for i in range(np.min(Y), np.max(Y)+1):\n",
    "        x = X[Y == i]\n",
    "        c += np.var(x)*len(x)\n",
    "    return 1-c/(np.var(X)*len(X))"
   ]
  },
  {
   "cell_type": "code",
   "execution_count": 22,
   "metadata": {},
   "outputs": [
    {
     "data": {
      "text/plain": [
       "[['horse_no', 'result', 0.013447676744946624],\n",
       " ['horse_age', 'result', 0.001700799796514496],\n",
       " ['horse_rating', 'result', 0.0009196255380485852],\n",
       " ['declared_weight', 'result', 0.002165698611272693],\n",
       " ['actual_weight', 'result', 0.009423341745313674],\n",
       " ['draw', 'result', 0.016534626361605298],\n",
       " ['win_odds', 'result', 0.22661859993713118],\n",
       " ['place_odds', 'result', 0.21377890998652338]]"
      ]
     },
     "execution_count": 22,
     "metadata": {},
     "output_type": "execute_result"
    }
   ],
   "source": [
    "[[data_df.columns[i], \"result\", correlation_ratio(data_df[data_df.columns[i]], data_df[\"result\"])] for i in range(data_df.shape[1]-1)]"
   ]
  },
  {
   "cell_type": "markdown",
   "metadata": {},
   "source": [
    "# 予測"
   ]
  },
  {
   "cell_type": "code",
   "execution_count": 23,
   "metadata": {},
   "outputs": [],
   "source": [
    "#回帰分析\n",
    "from sklearn import linear_model"
   ]
  },
  {
   "cell_type": "code",
   "execution_count": 24,
   "metadata": {},
   "outputs": [
    {
     "data": {
      "text/plain": [
       "LinearRegression()"
      ]
     },
     "execution_count": 24,
     "metadata": {},
     "output_type": "execute_result"
    }
   ],
   "source": [
    "clf = linear_model.LinearRegression()\n",
    "X = data_df[\"win_odds\"].values.reshape(-1, 1)\n",
    "Y = data_df[\"result\"]\n",
    "clf.fit(X, Y)"
   ]
  },
  {
   "cell_type": "code",
   "execution_count": 25,
   "metadata": {},
   "outputs": [
    {
     "data": {
      "text/plain": [
       "(array([5.71585707]), 5.216402897385594, 0.22142885930612932)"
      ]
     },
     "execution_count": 25,
     "metadata": {},
     "output_type": "execute_result"
    }
   ],
   "source": [
    "# 傾き，切片，相関係数の2乗\n",
    "clf.coef_, clf.intercept_, clf.score(X, Y) "
   ]
  },
  {
   "cell_type": "code",
   "execution_count": 26,
   "metadata": {},
   "outputs": [
    {
     "data": {
      "text/plain": [
       "Text(0, 0.5, 'result')"
      ]
     },
     "execution_count": 26,
     "metadata": {},
     "output_type": "execute_result"
    },
    {
     "data": {
      "image/png": "[encoded data removed]",
      "text/plain": [
       "<Figure size 432x288 with 1 Axes>"
      ]
     },
     "metadata": {
      "needs_background": "light"
     },
     "output_type": "display_data"
    }
   ],
   "source": [
    "plt.plot(X, clf.coef_ * X + clf.intercept_)\n",
    "plt.scatter(X, Y)\n",
    "plt.xlabel(\"win_odds\")\n",
    "plt.ylabel(\"result\")\n",
    "#点が多すぎて見にくいが、近似曲線により、馬の倍率が最小でも期待順位は5ほどとなっている"
   ]
  },
  {
   "cell_type": "markdown",
   "metadata": {},
   "source": [
    "# 精度の確認"
   ]
  },
  {
   "cell_type": "code",
   "execution_count": 27,
   "metadata": {},
   "outputs": [],
   "source": [
    "#NANに平均値を代入\n",
    "data_df=data_df.fillna(data_df.median())"
   ]
  },
  {
   "cell_type": "code",
   "execution_count": 28,
   "metadata": {},
   "outputs": [],
   "source": [
    "from sklearn.model_selection import train_test_split"
   ]
  },
  {
   "cell_type": "code",
   "execution_count": 29,
   "metadata": {},
   "outputs": [
    {
     "data": {
      "text/plain": [
       "['horse_no',\n",
       " 'horse_age',\n",
       " 'horse_rating',\n",
       " 'declared_weight',\n",
       " 'actual_weight',\n",
       " 'draw',\n",
       " 'win_odds',\n",
       " 'place_odds']"
      ]
     },
     "execution_count": 29,
     "metadata": {},
     "output_type": "execute_result"
    }
   ],
   "source": [
    "columns = data_df.columns.values.tolist()\n",
    "columns.remove(\"result\")\n",
    "columns"
   ]
  },
  {
   "cell_type": "code",
   "execution_count": 30,
   "metadata": {},
   "outputs": [],
   "source": [
    "X_train, X_test, y_train, y_test = train_test_split(data_df[columns], data_df[\"result\"], test_size=0.33, random_state=1)"
   ]
  },
  {
   "cell_type": "code",
   "execution_count": 31,
   "metadata": {},
   "outputs": [
    {
     "data": {
      "text/plain": [
       "((53229, 8), (26218, 8))"
      ]
     },
     "execution_count": 31,
     "metadata": {},
     "output_type": "execute_result"
    }
   ],
   "source": [
    "X_train.shape, X_test.shape"
   ]
  },
  {
   "cell_type": "markdown",
   "metadata": {},
   "source": [
    "# 仮説の確認\n",
    "最初に立てた仮説を確認してください．\n",
    "\n",
    "予測傾向など精度ベースでも仮説を確認することはできますが，決定木や可視化を用いる方が楽かもしれません．"
   ]
  },
  {
   "cell_type": "code",
   "execution_count": 32,
   "metadata": {},
   "outputs": [],
   "source": [
    "#SVC\n",
    "from sklearn.svm import SVC"
   ]
  },
  {
   "cell_type": "code",
   "execution_count": 33,
   "metadata": {},
   "outputs": [
    {
     "data": {
      "text/plain": [
       "SVC(random_state=0)"
      ]
     },
     "execution_count": 33,
     "metadata": {},
     "output_type": "execute_result"
    }
   ],
   "source": [
    "# 訓練\n",
    "clf = SVC(random_state=0)\n",
    "clf.fit(X_train, y_train)"
   ]
  },
  {
   "cell_type": "code",
   "execution_count": 34,
   "metadata": {},
   "outputs": [
    {
     "data": {
      "text/plain": [
       "array([ 4,  1,  3, ...,  4,  1, 12], dtype=int64)"
      ]
     },
     "execution_count": 34,
     "metadata": {},
     "output_type": "execute_result"
    }
   ],
   "source": [
    "# 予測\n",
    "pred = clf.predict(X_test)\n",
    "pred"
   ]
  },
  {
   "cell_type": "code",
   "execution_count": 35,
   "metadata": {},
   "outputs": [
    {
     "data": {
      "text/plain": [
       "41748    False\n",
       "60108    False\n",
       "71466    False\n",
       "38328    False\n",
       "48619    False\n",
       "         ...  \n",
       "54049    False\n",
       "2817      True\n",
       "33921    False\n",
       "3317     False\n",
       "21429    False\n",
       "Name: result, Length: 26218, dtype: bool"
      ]
     },
     "execution_count": 35,
     "metadata": {},
     "output_type": "execute_result"
    }
   ],
   "source": [
    "pred == y_test"
   ]
  },
  {
   "cell_type": "code",
   "execution_count": 36,
   "metadata": {},
   "outputs": [],
   "source": [
    "from sklearn.metrics import accuracy_score, precision_score, recall_score, f1_score"
   ]
  },
  {
   "cell_type": "code",
   "execution_count": 37,
   "metadata": {},
   "outputs": [
    {
     "data": {
      "text/plain": [
       "(0.13170340987108092,\n",
       " array([0.70752485, 0.06031308, 0.07159905, 0.06880076, 0.05845105,\n",
       "        0.03908484, 0.06646825, 0.11553589, 0.078487  , 0.08420528,\n",
       "        0.03014098, 0.31002865, 0.00224215, 0.03021978]),\n",
       " array([0.17285235, 0.09541151, 0.09129641, 0.09651475, 0.09029345,\n",
       "        0.09286523, 0.09331476, 0.09381238, 0.13584288, 0.12246377,\n",
       "        0.11923077, 0.14745162, 0.2       , 0.20560748]),\n",
       " array([0.2778294 , 0.07390691, 0.08025682, 0.08033473, 0.07096393,\n",
       "        0.0550151 , 0.07763615, 0.10354704, 0.09949056, 0.09979333,\n",
       "        0.04811797, 0.19985223, 0.00443459, 0.05269461]))"
      ]
     },
     "execution_count": 37,
     "metadata": {},
     "output_type": "execute_result"
    }
   ],
   "source": [
    "# 評価\n",
    "# accuracy　正答率, precision　適合率, recall　再現率, f値\n",
    "accuracy_score(pred, y_test), precision_score(pred, y_test, average=None), \\\n",
    "recall_score(pred, y_test, average=None), f1_score(pred, y_test, average=None)\n"
   ]
  },
  {
   "cell_type": "code",
   "execution_count": 38,
   "metadata": {},
   "outputs": [],
   "source": [
    "from sklearn import tree"
   ]
  },
  {
   "cell_type": "code",
   "execution_count": 39,
   "metadata": {},
   "outputs": [
    {
     "data": {
      "text/plain": [
       "DecisionTreeClassifier(random_state=0)"
      ]
     },
     "execution_count": 39,
     "metadata": {},
     "output_type": "execute_result"
    }
   ],
   "source": [
    "#訓練\n",
    "clf = tree.DecisionTreeClassifier(random_state=0)\n",
    "clf.fit(X_train, y_train)"
   ]
  },
  {
   "cell_type": "code",
   "execution_count": 41,
   "metadata": {},
   "outputs": [],
   "source": [
    "#予測\n",
    "pred = clf.predict(X_test)"
   ]
  },
  {
   "cell_type": "code",
   "execution_count": 42,
   "metadata": {},
   "outputs": [
    {
     "data": {
      "text/plain": [
       "(0.10210542375467237,\n",
       " array([0.16753431, 0.10819521, 0.11455847, 0.08695652, 0.10082806,\n",
       "        0.08388942, 0.09126984, 0.09636185, 0.09456265, 0.09566517,\n",
       "        0.08361692, 0.11289398, 0.08856502, 0.08653846]),\n",
       " array([0.17447018, 0.11928934, 0.10909091, 0.08621506, 0.09782609,\n",
       "        0.08392942, 0.08475357, 0.09542356, 0.09871668, 0.09347614,\n",
       "        0.09212641, 0.10830126, 0.08956916, 0.07664234]),\n",
       " array([0.17093192, 0.11347175, 0.11175786, 0.08658421, 0.09930439,\n",
       "        0.08390942, 0.08789109, 0.09589041, 0.09659503, 0.09455799,\n",
       "        0.08766565, 0.11054994, 0.08906426, 0.08129032]))"
      ]
     },
     "execution_count": 42,
     "metadata": {},
     "output_type": "execute_result"
    }
   ],
   "source": [
    "# 評価\n",
    "# accuracy　正答率, precision　適合率, recall　再現率, f値\n",
    "accuracy_score(pred, y_test), precision_score(pred, y_test, average=None), \\\n",
    "recall_score(pred, y_test, average=None), f1_score(pred, y_test, average=None)\n",
    "#なぜか1しか出力されない"
   ]
  },
  {
   "cell_type": "code",
   "execution_count": 53,
   "metadata": {},
   "outputs": [
    {
     "data": {
      "text/plain": [
       "[Text(558.0, 489.24, 'win_odds <= 0.117\\ngini = 0.925\\nsamples = 53229\\nvalue = [4247, 4176, 4264, 4273, 4273, 4245, 4295, 4258, 4107\\n4118, 3840, 3661, 1875, 1597]\\nclass = 7'),\n",
       " Text(279.0, 380.52000000000004, 'win_odds <= 0.035\\ngini = 0.902\\nsamples = 22978\\nvalue = [3436, 3081, 2752, 2466, 2199, 1895, 1743, 1409, 1132\\n1008, 824, 585, 257, 191]\\nclass = 1'),\n",
       " Text(139.5, 271.8, 'win_odds <= 0.015\\ngini = 0.844\\nsamples = 5511\\nvalue = [1585, 1017, 696, 521, 437, 315, 259, 196, 156, 126\\n91, 55, 34, 23]\\nclass = 1'),\n",
       " Text(69.75, 163.08000000000004, 'win_odds <= 0.009\\ngini = 0.745\\nsamples = 1120\\nvalue = [488, 223, 140, 83, 55, 38, 25, 23, 6, 16, 12, 3\\n4, 4]\\nclass = 1'),\n",
       " Text(34.875, 54.360000000000014, '\\n  (...)  \\n'),\n",
       " Text(104.625, 54.360000000000014, '\\n  (...)  \\n'),\n",
       " Text(209.25, 163.08000000000004, 'win_odds <= 0.026\\ngini = 0.861\\nsamples = 4391\\nvalue = [1097, 794, 556, 438, 382, 277, 234, 173, 150, 110\\n79, 52, 30, 19]\\nclass = 1'),\n",
       " Text(174.375, 54.360000000000014, '\\n  (...)  \\n'),\n",
       " Text(244.125, 54.360000000000014, '\\n  (...)  \\n'),\n",
       " Text(418.5, 271.8, 'win_odds <= 0.067\\ngini = 0.91\\nsamples = 17467\\nvalue = [1851, 2064, 2056, 1945, 1762, 1580, 1484, 1213, 976\\n882, 733, 530, 223, 168]\\nclass = 2'),\n",
       " Text(348.75, 163.08000000000004, 'win_odds <= 0.051\\ngini = 0.898\\nsamples = 7460\\nvalue = [1067, 1049, 1009, 850, 714, 637, 548, 427, 329, 314\\n240, 162, 72, 42]\\nclass = 1'),\n",
       " Text(313.875, 54.360000000000014, '\\n  (...)  \\n'),\n",
       " Text(383.625, 54.360000000000014, '\\n  (...)  \\n'),\n",
       " Text(488.25, 163.08000000000004, 'place_odds <= 0.021\\ngini = 0.914\\nsamples = 10007\\nvalue = [784, 1015, 1047, 1095, 1048, 943, 936, 786, 647, 568\\n493, 368, 151, 126]\\nclass = 4'),\n",
       " Text(453.375, 54.360000000000014, '\\n  (...)  \\n'),\n",
       " Text(523.125, 54.360000000000014, '\\n  (...)  \\n'),\n",
       " Text(837.0, 380.52000000000004, 'place_odds <= 0.09\\ngini = 0.92\\nsamples = 30251\\nvalue = [811, 1095, 1512, 1807, 2074, 2350, 2552, 2849, 2975\\n3110, 3016, 3076, 1618, 1406]\\nclass = 10'),\n",
       " Text(697.5, 271.8, 'place_odds <= 0.03\\ngini = 0.919\\nsamples = 19578\\nvalue = [717, 978, 1295, 1505, 1675, 1802, 1861, 1973, 1907\\n1797, 1588, 1454, 584, 442]\\nclass = 8'),\n",
       " Text(627.75, 163.08000000000004, 'place_odds <= 0.022\\ngini = 0.914\\nsamples = 3537\\nvalue = [193, 249, 334, 362, 407, 383, 341, 321, 287, 252\\n167, 149, 59, 33]\\nclass = 5'),\n",
       " Text(592.875, 54.360000000000014, '\\n  (...)  \\n'),\n",
       " Text(662.625, 54.360000000000014, '\\n  (...)  \\n'),\n",
       " Text(767.25, 163.08000000000004, 'win_odds <= 0.291\\ngini = 0.919\\nsamples = 16041\\nvalue = [524, 729, 961, 1143, 1268, 1419, 1520, 1652, 1620\\n1545, 1421, 1305, 525, 409]\\nclass = 8'),\n",
       " Text(732.375, 54.360000000000014, '\\n  (...)  \\n'),\n",
       " Text(802.125, 54.360000000000014, '\\n  (...)  \\n'),\n",
       " Text(976.5, 271.8, 'place_odds <= 0.185\\ngini = 0.9\\nsamples = 10673\\nvalue = [94, 117, 217, 302, 399, 548, 691, 876, 1068, 1313\\n1428, 1622, 1034, 964]\\nclass = 12'),\n",
       " Text(906.75, 163.08000000000004, 'draw <= 0.821\\ngini = 0.907\\nsamples = 6292\\nvalue = [83, 104, 171, 240, 308, 392, 487, 595, 694, 779\\n815, 809, 451, 364]\\nclass = 11'),\n",
       " Text(871.875, 54.360000000000014, '\\n  (...)  \\n'),\n",
       " Text(941.625, 54.360000000000014, '\\n  (...)  \\n'),\n",
       " Text(1046.25, 163.08000000000004, 'place_odds <= 0.315\\ngini = 0.879\\nsamples = 4381\\nvalue = [11, 13, 46, 62, 91, 156, 204, 281, 374, 534, 613\\n813, 583, 600]\\nclass = 12'),\n",
       " Text(1011.375, 54.360000000000014, '\\n  (...)  \\n'),\n",
       " Text(1081.125, 54.360000000000014, '\\n  (...)  \\n')]"
      ]
     },
     "execution_count": 53,
     "metadata": {},
     "output_type": "execute_result"
    },
    {
     "data": {
      "image/png": "[encoded data removed]",
      "text/plain": [
       "<Figure size 1440x720 with 1 Axes>"
      ]
     },
     "metadata": {
      "needs_background": "light"
     },
     "output_type": "display_data"
    }
   ],
   "source": [
    "# 可視化\n",
    "plt.figure(figsize=(20, 10))\n",
    "tree.plot_tree(clf,feature_names=data_df.columns.values, class_names=[\"1\", \"2\", \"3\",\"4\", \"5\", \"6\",\"7\", \"8\", \"9\",\"10\",\"11\",\"12\",\"13\",\"14\"],\n",
    "               filled=True, max_depth=3) "
   ]
  },
  {
   "cell_type": "markdown",
   "metadata": {},
   "source": []
  },
  {
   "cell_type": "code",
   "execution_count": null,
   "metadata": {
    "collapsed": true
   },
   "outputs": [],
   "source": [
    "分析した結果として，決定木では10％，SVMでは13％ほどの正解率を示した。SVMを見ると一着の馬は70％ほどが一番人気であったと出ている。一番人気の倍率が2.0倍ほどだと仮定すると、100円をかけたときの期待値は0.7*100*2.0+0=140円より、人気で見たときに一番人気にかけることの期待値が高いことが分かる。しかし、一番人気の平均オッズがいくつか調べていないため、曖昧な値である。また、一着から三着まで縄間は馬券に絡んでくるのでそこの正答率も研究では重視したい。また、決定木は文字が小さすぎるため位置関係が読み取れていない。"
   ]
  }
 ],
 "metadata": {
  "kernelspec": {
   "display_name": "Python 3",
   "language": "python",
   "name": "python3"
  },
  "language_info": {
   "codemirror_mode": {
    "name": "ipython",
    "version": 3
   },
   "file_extension": ".py",
   "mimetype": "text/x-python",
   "name": "python",
   "nbconvert_exporter": "python",
   "pygments_lexer": "ipython3",
   "version": "3.8.5"
  }
 },
 "nbformat": 4,
 "nbformat_minor": 1
}
