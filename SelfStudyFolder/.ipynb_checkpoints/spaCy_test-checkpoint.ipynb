{
 "cells": [
  {
   "cell_type": "code",
   "execution_count": 2,
   "metadata": {},
   "outputs": [
    {
     "name": "stdout",
     "output_type": "stream",
     "text": [
      "Collecting https://github.com/megagonlabs/ginza/releases/download/latest/ginza-latest.tar.gz\n",
      "  Downloading https://github.com/megagonlabs/ginza/releases/download/latest/ginza-latest.tar.gz (23 kB)\n",
      "Collecting spacy<3.2.0,>=3.0.6\n",
      "  Downloading spacy-3.1.3-cp38-cp38-win_amd64.whl (12.0 MB)\n",
      "Collecting plac>=1.3.3\n",
      "  Downloading plac-1.3.3-py2.py3-none-any.whl (22 kB)\n",
      "Collecting SudachiPy<0.6.0,>=0.5.2\n",
      "  Downloading SudachiPy-0.5.4-cp38-cp38-win_amd64.whl (265 kB)\n",
      "Collecting SudachiDict-core>=20210608\n",
      "  Downloading SudachiDict-core-20210802.tar.gz (9.1 kB)\n",
      "Collecting preshed<3.1.0,>=3.0.2\n",
      "  Downloading preshed-3.0.5-cp38-cp38-win_amd64.whl (112 kB)\n",
      "Collecting thinc<8.1.0,>=8.0.9\n",
      "  Downloading thinc-8.0.10-cp38-cp38-win_amd64.whl (1.0 MB)\n",
      "Collecting pathy>=0.3.5\n",
      "  Downloading pathy-0.6.0-py3-none-any.whl (42 kB)\n",
      "Requirement already satisfied: requests<3.0.0,>=2.13.0 in c:\\users\\keitashiraishi\\anaconda3\\lib\\site-packages (from spacy<3.2.0,>=3.0.6->ginza==5.0.1) (2.24.0)\n",
      "Collecting cymem<2.1.0,>=2.0.2\n",
      "  Downloading cymem-2.0.5-cp38-cp38-win_amd64.whl (36 kB)\n",
      "Collecting blis<0.8.0,>=0.4.0\n",
      "  Downloading blis-0.7.4-cp38-cp38-win_amd64.whl (6.5 MB)\n",
      "Collecting pydantic!=1.8,!=1.8.1,<1.9.0,>=1.7.4\n",
      "  Downloading pydantic-1.8.2-cp38-cp38-win_amd64.whl (2.0 MB)\n",
      "Collecting murmurhash<1.1.0,>=0.28.0\n",
      "  Downloading murmurhash-1.0.5-cp38-cp38-win_amd64.whl (21 kB)\n",
      "Collecting srsly<3.0.0,>=2.4.1\n",
      "  Downloading srsly-2.4.1-cp38-cp38-win_amd64.whl (451 kB)\n",
      "Collecting spacy-legacy<3.1.0,>=3.0.8\n",
      "  Downloading spacy_legacy-3.0.8-py2.py3-none-any.whl (14 kB)\n",
      "Collecting wasabi<1.1.0,>=0.8.1\n",
      "  Downloading wasabi-0.8.2-py3-none-any.whl (23 kB)\n",
      "Requirement already satisfied: numpy>=1.15.0 in c:\\users\\keitashiraishi\\anaconda3\\lib\\site-packages (from spacy<3.2.0,>=3.0.6->ginza==5.0.1) (1.19.2)\n",
      "Collecting typer<0.5.0,>=0.3.0\n",
      "  Downloading typer-0.4.0-py3-none-any.whl (27 kB)\n",
      "Requirement already satisfied: setuptools in c:\\users\\keitashiraishi\\anaconda3\\lib\\site-packages (from spacy<3.2.0,>=3.0.6->ginza==5.0.1) (50.3.1.post20201107)\n",
      "Requirement already satisfied: tqdm<5.0.0,>=4.38.0 in c:\\users\\keitashiraishi\\anaconda3\\lib\\site-packages (from spacy<3.2.0,>=3.0.6->ginza==5.0.1) (4.50.2)\n",
      "Collecting catalogue<2.1.0,>=2.0.6\n",
      "  Downloading catalogue-2.0.6-py3-none-any.whl (17 kB)\n",
      "Requirement already satisfied: packaging>=20.0 in c:\\users\\keitashiraishi\\anaconda3\\lib\\site-packages (from spacy<3.2.0,>=3.0.6->ginza==5.0.1) (20.4)\n",
      "Requirement already satisfied: jinja2 in c:\\users\\keitashiraishi\\anaconda3\\lib\\site-packages (from spacy<3.2.0,>=3.0.6->ginza==5.0.1) (2.11.2)\n",
      "Collecting dartsclone~=0.9.0\n",
      "  Downloading dartsclone-0.9.0-cp38-cp38-win_amd64.whl (99 kB)\n",
      "Collecting sortedcontainers~=2.1.0\n",
      "  Downloading sortedcontainers-2.1.0-py2.py3-none-any.whl (28 kB)\n",
      "Requirement already satisfied: smart-open<6.0.0,>=5.0.0 in c:\\users\\keitashiraishi\\anaconda3\\lib\\site-packages (from pathy>=0.3.5->spacy<3.2.0,>=3.0.6->ginza==5.0.1) (5.2.1)\n",
      "Requirement already satisfied: chardet<4,>=3.0.2 in c:\\users\\keitashiraishi\\anaconda3\\lib\\site-packages (from requests<3.0.0,>=2.13.0->spacy<3.2.0,>=3.0.6->ginza==5.0.1) (3.0.4)\n",
      "Requirement already satisfied: certifi>=2017.4.17 in c:\\users\\keitashiraishi\\anaconda3\\lib\\site-packages (from requests<3.0.0,>=2.13.0->spacy<3.2.0,>=3.0.6->ginza==5.0.1) (2020.6.20)\n",
      "Requirement already satisfied: idna<3,>=2.5 in c:\\users\\keitashiraishi\\anaconda3\\lib\\site-packages (from requests<3.0.0,>=2.13.0->spacy<3.2.0,>=3.0.6->ginza==5.0.1) (2.10)\n",
      "Requirement already satisfied: urllib3!=1.25.0,!=1.25.1,<1.26,>=1.21.1 in c:\\users\\keitashiraishi\\anaconda3\\lib\\site-packages (from requests<3.0.0,>=2.13.0->spacy<3.2.0,>=3.0.6->ginza==5.0.1) (1.25.11)\n",
      "Requirement already satisfied: typing-extensions>=3.7.4.3 in c:\\users\\keitashiraishi\\anaconda3\\lib\\site-packages (from pydantic!=1.8,!=1.8.1,<1.9.0,>=1.7.4->spacy<3.2.0,>=3.0.6->ginza==5.0.1) (3.7.4.3)\n",
      "Requirement already satisfied: click<9.0.0,>=7.1.1 in c:\\users\\keitashiraishi\\anaconda3\\lib\\site-packages (from typer<0.5.0,>=0.3.0->spacy<3.2.0,>=3.0.6->ginza==5.0.1) (7.1.2)\n",
      "Requirement already satisfied: six in c:\\users\\keitashiraishi\\anaconda3\\lib\\site-packages (from packaging>=20.0->spacy<3.2.0,>=3.0.6->ginza==5.0.1) (1.15.0)\n",
      "Requirement already satisfied: pyparsing>=2.0.2 in c:\\users\\keitashiraishi\\anaconda3\\lib\\site-packages (from packaging>=20.0->spacy<3.2.0,>=3.0.6->ginza==5.0.1) (2.4.7)\n",
      "Requirement already satisfied: MarkupSafe>=0.23 in c:\\users\\keitashiraishi\\anaconda3\\lib\\site-packages (from jinja2->spacy<3.2.0,>=3.0.6->ginza==5.0.1) (1.1.1)\n",
      "Requirement already satisfied: Cython in c:\\users\\keitashiraishi\\anaconda3\\lib\\site-packages (from dartsclone~=0.9.0->SudachiPy<0.6.0,>=0.5.2->ginza==5.0.1) (0.29.23)\n",
      "Building wheels for collected packages: ginza, SudachiDict-core\n",
      "  Building wheel for ginza (setup.py): started\n",
      "  Building wheel for ginza (setup.py): finished with status 'done'\n",
      "  Created wheel for ginza: filename=ginza-5.0.1-py3-none-any.whl size=17846 sha256=af507d3dfbee038d135c3aedf0d68c11af35a9f6e73daa15164dbb6e5e5654ca\n",
      "  Stored in directory: c:\\users\\keitashiraishi\\appdata\\local\\pip\\cache\\wheels\\c1\\37\\13\\9b7b65693afb8cf0c00e2a2fab3932a1be09c8d0a3b09d49d5\n",
      "  Building wheel for SudachiDict-core (setup.py): started\n",
      "  Building wheel for SudachiDict-core (setup.py): finished with status 'done'\n",
      "  Created wheel for SudachiDict-core: filename=SudachiDict_core-20210802-py3-none-any.whl size=71418517 sha256=c05c36b94e117d4f5fbfd0840a8d2d18df725f466cd778d69fd7161fdbc8a627\n",
      "  Stored in directory: c:\\users\\keitashiraishi\\appdata\\local\\pip\\cache\\wheels\\ec\\c8\\b1\\40e380e7a42ffe49972aff9e2ebfbae713b485475ca58fe529\n",
      "Successfully built ginza SudachiDict-core\n",
      "Installing collected packages: murmurhash, cymem, preshed, catalogue, srsly, blis, pydantic, wasabi, thinc, typer, pathy, spacy-legacy, spacy, plac, dartsclone, sortedcontainers, SudachiPy, SudachiDict-core, ginza\n",
      "  Attempting uninstall: sortedcontainers\n",
      "    Found existing installation: sortedcontainers 2.2.2\n",
      "    Uninstalling sortedcontainers-2.2.2:\n",
      "      Successfully uninstalled sortedcontainers-2.2.2\n",
      "Successfully installed SudachiDict-core-20210802 SudachiPy-0.5.4 blis-0.7.4 catalogue-2.0.6 cymem-2.0.5 dartsclone-0.9.0 ginza-5.0.1 murmurhash-1.0.5 pathy-0.6.0 plac-1.3.3 preshed-3.0.5 pydantic-1.8.2 sortedcontainers-2.1.0 spacy-3.1.3 spacy-legacy-3.0.8 srsly-2.4.1 thinc-8.0.10 typer-0.4.0 wasabi-0.8.2\n",
      "Note: you may need to restart the kernel to use updated packages.\n"
     ]
    }
   ],
   "source": [
    "pip install \"https://github.com/megagonlabs/ginza/releases/download/latest/ginza-latest.tar.gz\""
   ]
  },
  {
   "cell_type": "code",
   "execution_count": 3,
   "metadata": {},
   "outputs": [
    {
     "name": "stdout",
     "output_type": "stream",
     "text": [
      "Collecting ginza\n",
      "  Downloading ginza-5.0.2.tar.gz (23 kB)\n",
      "Collecting ja-ginza\n",
      "  Downloading ja_ginza-5.0.0.tar.gz (58.7 MB)\n",
      "Requirement already satisfied, skipping upgrade: spacy<3.2.0,>=3.0.6 in c:\\users\\keitashiraishi\\anaconda3\\lib\\site-packages (from ginza) (3.1.3)\n",
      "Requirement already satisfied, skipping upgrade: plac>=1.3.3 in c:\\users\\keitashiraishi\\anaconda3\\lib\\site-packages (from ginza) (1.3.3)\n",
      "Requirement already satisfied, skipping upgrade: SudachiPy<0.6.0,>=0.5.2 in c:\\users\\keitashiraishi\\anaconda3\\lib\\site-packages (from ginza) (0.5.4)\n",
      "Requirement already satisfied, skipping upgrade: SudachiDict-core>=20210608 in c:\\users\\keitashiraishi\\anaconda3\\lib\\site-packages (from ginza) (20210802)\n",
      "Requirement already satisfied, skipping upgrade: wasabi<1.1.0,>=0.8.1 in c:\\users\\keitashiraishi\\anaconda3\\lib\\site-packages (from spacy<3.2.0,>=3.0.6->ginza) (0.8.2)\n",
      "Requirement already satisfied, skipping upgrade: cymem<2.1.0,>=2.0.2 in c:\\users\\keitashiraishi\\anaconda3\\lib\\site-packages (from spacy<3.2.0,>=3.0.6->ginza) (2.0.5)\n",
      "Requirement already satisfied, skipping upgrade: pathy>=0.3.5 in c:\\users\\keitashiraishi\\anaconda3\\lib\\site-packages (from spacy<3.2.0,>=3.0.6->ginza) (0.6.0)\n",
      "Requirement already satisfied, skipping upgrade: setuptools in c:\\users\\keitashiraishi\\anaconda3\\lib\\site-packages (from spacy<3.2.0,>=3.0.6->ginza) (50.3.1.post20201107)\n",
      "Requirement already satisfied, skipping upgrade: preshed<3.1.0,>=3.0.2 in c:\\users\\keitashiraishi\\anaconda3\\lib\\site-packages (from spacy<3.2.0,>=3.0.6->ginza) (3.0.5)\n",
      "Requirement already satisfied, skipping upgrade: blis<0.8.0,>=0.4.0 in c:\\users\\keitashiraishi\\anaconda3\\lib\\site-packages (from spacy<3.2.0,>=3.0.6->ginza) (0.7.4)\n",
      "Requirement already satisfied, skipping upgrade: tqdm<5.0.0,>=4.38.0 in c:\\users\\keitashiraishi\\anaconda3\\lib\\site-packages (from spacy<3.2.0,>=3.0.6->ginza) (4.50.2)\n",
      "Requirement already satisfied, skipping upgrade: requests<3.0.0,>=2.13.0 in c:\\users\\keitashiraishi\\anaconda3\\lib\\site-packages (from spacy<3.2.0,>=3.0.6->ginza) (2.24.0)\n",
      "Requirement already satisfied, skipping upgrade: typer<0.5.0,>=0.3.0 in c:\\users\\keitashiraishi\\anaconda3\\lib\\site-packages (from spacy<3.2.0,>=3.0.6->ginza) (0.4.0)\n",
      "Requirement already satisfied, skipping upgrade: packaging>=20.0 in c:\\users\\keitashiraishi\\anaconda3\\lib\\site-packages (from spacy<3.2.0,>=3.0.6->ginza) (20.4)\n",
      "Requirement already satisfied, skipping upgrade: numpy>=1.15.0 in c:\\users\\keitashiraishi\\anaconda3\\lib\\site-packages (from spacy<3.2.0,>=3.0.6->ginza) (1.19.2)\n",
      "Requirement already satisfied, skipping upgrade: srsly<3.0.0,>=2.4.1 in c:\\users\\keitashiraishi\\anaconda3\\lib\\site-packages (from spacy<3.2.0,>=3.0.6->ginza) (2.4.1)\n",
      "Requirement already satisfied, skipping upgrade: jinja2 in c:\\users\\keitashiraishi\\anaconda3\\lib\\site-packages (from spacy<3.2.0,>=3.0.6->ginza) (2.11.2)\n",
      "Requirement already satisfied, skipping upgrade: murmurhash<1.1.0,>=0.28.0 in c:\\users\\keitashiraishi\\anaconda3\\lib\\site-packages (from spacy<3.2.0,>=3.0.6->ginza) (1.0.5)\n",
      "Requirement already satisfied, skipping upgrade: pydantic!=1.8,!=1.8.1,<1.9.0,>=1.7.4 in c:\\users\\keitashiraishi\\anaconda3\\lib\\site-packages (from spacy<3.2.0,>=3.0.6->ginza) (1.8.2)\n",
      "Requirement already satisfied, skipping upgrade: thinc<8.1.0,>=8.0.9 in c:\\users\\keitashiraishi\\anaconda3\\lib\\site-packages (from spacy<3.2.0,>=3.0.6->ginza) (8.0.10)\n",
      "Requirement already satisfied, skipping upgrade: spacy-legacy<3.1.0,>=3.0.8 in c:\\users\\keitashiraishi\\anaconda3\\lib\\site-packages (from spacy<3.2.0,>=3.0.6->ginza) (3.0.8)\n",
      "Requirement already satisfied, skipping upgrade: catalogue<2.1.0,>=2.0.6 in c:\\users\\keitashiraishi\\anaconda3\\lib\\site-packages (from spacy<3.2.0,>=3.0.6->ginza) (2.0.6)\n",
      "Requirement already satisfied, skipping upgrade: sortedcontainers~=2.1.0 in c:\\users\\keitashiraishi\\anaconda3\\lib\\site-packages (from SudachiPy<0.6.0,>=0.5.2->ginza) (2.1.0)\n",
      "Requirement already satisfied, skipping upgrade: dartsclone~=0.9.0 in c:\\users\\keitashiraishi\\anaconda3\\lib\\site-packages (from SudachiPy<0.6.0,>=0.5.2->ginza) (0.9.0)\n",
      "Requirement already satisfied, skipping upgrade: smart-open<6.0.0,>=5.0.0 in c:\\users\\keitashiraishi\\anaconda3\\lib\\site-packages (from pathy>=0.3.5->spacy<3.2.0,>=3.0.6->ginza) (5.2.1)\n",
      "Requirement already satisfied, skipping upgrade: certifi>=2017.4.17 in c:\\users\\keitashiraishi\\anaconda3\\lib\\site-packages (from requests<3.0.0,>=2.13.0->spacy<3.2.0,>=3.0.6->ginza) (2020.6.20)\n",
      "Requirement already satisfied, skipping upgrade: chardet<4,>=3.0.2 in c:\\users\\keitashiraishi\\anaconda3\\lib\\site-packages (from requests<3.0.0,>=2.13.0->spacy<3.2.0,>=3.0.6->ginza) (3.0.4)\n",
      "Requirement already satisfied, skipping upgrade: urllib3!=1.25.0,!=1.25.1,<1.26,>=1.21.1 in c:\\users\\keitashiraishi\\anaconda3\\lib\\site-packages (from requests<3.0.0,>=2.13.0->spacy<3.2.0,>=3.0.6->ginza) (1.25.11)\n",
      "Requirement already satisfied, skipping upgrade: idna<3,>=2.5 in c:\\users\\keitashiraishi\\anaconda3\\lib\\site-packages (from requests<3.0.0,>=2.13.0->spacy<3.2.0,>=3.0.6->ginza) (2.10)\n",
      "Requirement already satisfied, skipping upgrade: click<9.0.0,>=7.1.1 in c:\\users\\keitashiraishi\\anaconda3\\lib\\site-packages (from typer<0.5.0,>=0.3.0->spacy<3.2.0,>=3.0.6->ginza) (7.1.2)\n",
      "Requirement already satisfied, skipping upgrade: pyparsing>=2.0.2 in c:\\users\\keitashiraishi\\anaconda3\\lib\\site-packages (from packaging>=20.0->spacy<3.2.0,>=3.0.6->ginza) (2.4.7)\n",
      "Requirement already satisfied, skipping upgrade: six in c:\\users\\keitashiraishi\\anaconda3\\lib\\site-packages (from packaging>=20.0->spacy<3.2.0,>=3.0.6->ginza) (1.15.0)\n",
      "Requirement already satisfied, skipping upgrade: MarkupSafe>=0.23 in c:\\users\\keitashiraishi\\anaconda3\\lib\\site-packages (from jinja2->spacy<3.2.0,>=3.0.6->ginza) (1.1.1)\n",
      "Requirement already satisfied, skipping upgrade: typing-extensions>=3.7.4.3 in c:\\users\\keitashiraishi\\anaconda3\\lib\\site-packages (from pydantic!=1.8,!=1.8.1,<1.9.0,>=1.7.4->spacy<3.2.0,>=3.0.6->ginza) (3.7.4.3)\n",
      "Requirement already satisfied, skipping upgrade: Cython in c:\\users\\keitashiraishi\\anaconda3\\lib\\site-packages (from dartsclone~=0.9.0->SudachiPy<0.6.0,>=0.5.2->ginza) (0.29.23)\n",
      "Building wheels for collected packages: ginza, ja-ginza\n",
      "  Building wheel for ginza (setup.py): started\n",
      "  Building wheel for ginza (setup.py): finished with status 'done'\n",
      "  Created wheel for ginza: filename=ginza-5.0.2-py3-none-any.whl size=17849 sha256=90aaba4ebbad7615176adda75869dcb6cd5c02ea84a2d993ad180bf7fa8dc322\n",
      "  Stored in directory: c:\\users\\keitashiraishi\\appdata\\local\\pip\\cache\\wheels\\04\\a7\\39\\f82ba16a91da7ec949483c9597ab77956445efe8777b509aba\n",
      "  Building wheel for ja-ginza (setup.py): started\n",
      "  Building wheel for ja-ginza (setup.py): finished with status 'done'\n",
      "  Created wheel for ja-ginza: filename=ja_ginza-5.0.0-py3-none-any.whl size=58774089 sha256=78a37f30aa51c2d982e8ec3ff48ba59c1615e32e24460ecd6cdc4d8ba8f8f639\n",
      "  Stored in directory: c:\\users\\keitashiraishi\\appdata\\local\\pip\\cache\\wheels\\49\\85\\4c\\345566b10b3f068c91bf784efae36f9043c1ed7bc4290a79e1\n",
      "Successfully built ginza ja-ginza\n",
      "Installing collected packages: ginza, ja-ginza\n",
      "  Attempting uninstall: ginza\n",
      "    Found existing installation: ginza 5.0.1\n",
      "    Uninstalling ginza-5.0.1:\n",
      "      Successfully uninstalled ginza-5.0.1\n",
      "Successfully installed ginza-5.0.2 ja-ginza-5.0.0\n",
      "Note: you may need to restart the kernel to use updated packages.\n"
     ]
    }
   ],
   "source": [
    "pip install -U ginza ja-ginza"
   ]
  },
  {
   "cell_type": "code",
   "execution_count": 11,
   "metadata": {},
   "outputs": [
    {
     "name": "stdout",
     "output_type": "stream",
     "text": [
      "0 spaCy spacy NOUN 名詞-普通名詞-一般 nsubj 19\n",
      "1 は は ADP 助詞-係助詞 case 0\n",
      "2 Explosion explosion PROPN 名詞-普通名詞-一般 nmod 4\n",
      "3 AI AI NOUN 名詞-普通名詞-一般 compound 4\n",
      "4 社 社 NOUN 名詞-普通名詞-助数詞可能 nmod 6\n",
      "5 の の ADP 助詞-格助詞 case 4\n",
      "6 開発 開発 VERB 名詞-普通名詞-サ変可能 acl 10\n",
      "7 する する AUX 動詞-非自立可能 aux 6\n",
      "8 Python python NOUN 名詞-普通名詞-一般 compound 10\n",
      "9 / / SYM 補助記号-一般 compound 10\n",
      "10 Cython cython PROPN 名詞-普通名詞-一般 obl 12\n",
      "11 で で ADP 接続詞 case 10\n",
      "12 実装 実装 VERB 名詞-普通名詞-サ変可能 acl 19\n",
      "13 さ する AUX 動詞-非自立可能 aux 12\n",
      "14 れ れる AUX 助動詞 aux 12\n",
      "15 た た AUX 助動詞 aux 12\n",
      "16 オープンソース オープンソース NOUN 名詞-固有名詞-一般 nmod 19\n",
      "17 の の ADP 助詞-格助詞 case 16\n",
      "18 自然言語処理 自然言語処理 ADV 名詞-普通名詞-一般 compound 19\n",
      "19 ライブラリ ライブラリ NOUN 名詞-普通名詞-一般 ROOT 19\n",
      "20 です です AUX 助動詞 cop 19\n",
      "21 。 。 PUNCT 補助記号-句点 punct 19\n",
      "EOS\n"
     ]
    }
   ],
   "source": [
    "import spacy \n",
    "nlp = spacy.load('ja_ginza') \n",
    "doc = nlp('spaCy は Explosion AI 社の開発する Python/Cython で実装されたオープンソースの自然言語処理ライブラリです。') \n",
    "for sent in doc.sents: \n",
    "    for token in sent: \n",
    "        print(token.i, token.orth_, token.lemma_, token.pos_, token.tag_, token.dep_, token.head.i) \n",
    "    print('EOS')"
   ]
  },
  {
   "cell_type": "code",
   "execution_count": 12,
   "metadata": {},
   "outputs": [],
   "source": [
    "import spacy\n",
    "nlp = spacy.load('ja_ginza')"
   ]
  },
  {
   "cell_type": "code",
   "execution_count": 13,
   "metadata": {},
   "outputs": [
    {
     "name": "stdout",
     "output_type": "stream",
     "text": [
      "('tok2vec', <spacy.pipeline.tok2vec.Tok2Vec object at 0x000001F56BB452C0>)\n",
      "('parser', <spacy.pipeline.dep_parser.DependencyParser object at 0x000001F5689699A0>)\n",
      "('ner', <spacy.pipeline.ner.EntityRecognizer object at 0x000001F568969B80>)\n",
      "('morphologizer', <spacy.pipeline.morphologizer.Morphologizer object at 0x000001F587750A40>)\n",
      "('compound_splitter', <ginza.compound_splitter.CompoundSplitter object at 0x000001F58773F8E0>)\n",
      "('bunsetu_recognizer', <ginza.bunsetu_recognizer.BunsetuRecognizer object at 0x000001F587753FA0>)\n"
     ]
    }
   ],
   "source": [
    "for p in nlp.pipeline:\n",
    "    print(p)"
   ]
  },
  {
   "cell_type": "code",
   "execution_count": 14,
   "metadata": {},
   "outputs": [],
   "source": [
    "doc = nlp('spaCy はオープンソースの自然言語処理ライブラリです。学習済みの統計モデルと単語ベクトルが付属しています。')"
   ]
  },
  {
   "cell_type": "code",
   "execution_count": 15,
   "metadata": {},
   "outputs": [],
   "source": [
    "texts = ['本日は晴天なり。', '吾輩は猫である']\n",
    "docs = list(nlp.pipe(texts))"
   ]
  },
  {
   "cell_type": "code",
   "execution_count": 16,
   "metadata": {},
   "outputs": [],
   "source": [
    "docs = nlp.pipe(texts, disable=['ner'])"
   ]
  },
  {
   "cell_type": "code",
   "execution_count": 17,
   "metadata": {},
   "outputs": [],
   "source": [
    "with nlp.disable_pipes(\"ner\"):\n",
    "    doc = nlp('本日は晴天なり。')"
   ]
  },
  {
   "cell_type": "code",
   "execution_count": 18,
   "metadata": {},
   "outputs": [
    {
     "name": "stdout",
     "output_type": "stream",
     "text": [
      "spaCy はオープンソースの自然言語処理ライブラリです。\n",
      "学習済みの統計モデルと単語ベクトルが付属しています。\n"
     ]
    }
   ],
   "source": [
    "doc =nlp('spaCy はオープンソースの自然言語処理ライブラリです。学習済みの統計モデルと単語ベクトルが付属しています。')\n",
    "for s in doc.sents:\n",
    "    print(s)"
   ]
  },
  {
   "cell_type": "code",
   "execution_count": 19,
   "metadata": {},
   "outputs": [
    {
     "name": "stdout",
     "output_type": "stream",
     "text": [
      "spaCy\n",
      "オープンソース\n",
      "自然言語処理ライブラリ\n",
      "学習済み\n",
      "統計モデル\n",
      "単語ベクトル\n"
     ]
    }
   ],
   "source": [
    "for np in doc.noun_chunks:\n",
    "    print(np)"
   ]
  },
  {
   "cell_type": "code",
   "execution_count": 20,
   "metadata": {},
   "outputs": [
    {
     "name": "stdout",
     "output_type": "stream",
     "text": [
      "spaCy\n",
      "は\n",
      "オープンソース\n",
      "の\n",
      "自然言語処理\n",
      "ライブラリ\n",
      "です\n",
      "。\n",
      "学習\n",
      "済み\n",
      "の\n",
      "統計\n",
      "モデル\n",
      "と\n",
      "単語\n",
      "ベクトル\n",
      "が\n",
      "付属\n",
      "し\n",
      "て\n",
      "い\n",
      "ます\n",
      "。\n"
     ]
    }
   ],
   "source": [
    "for token in doc:\n",
    "  print(token.text)"
   ]
  },
  {
   "cell_type": "code",
   "execution_count": 21,
   "metadata": {},
   "outputs": [
    {
     "name": "stdout",
     "output_type": "stream",
     "text": [
      "token[ 0] = spaCy     , pos:NOUN  , dep:nsubj     , head=5\n",
      "token[ 1] = は         , pos:ADP   , dep:case      , head=0\n",
      "token[ 2] = オープンソース   , pos:NOUN  , dep:nmod      , head=5\n",
      "token[ 3] = の         , pos:ADP   , dep:case      , head=2\n",
      "token[ 4] = 自然言語処理    , pos:ADV   , dep:compound  , head=5\n",
      "token[ 5] = ライブラリ     , pos:NOUN  , dep:ROOT      , head=5\n",
      "token[ 6] = です        , pos:AUX   , dep:cop       , head=5\n",
      "token[ 7] = 。         , pos:PUNCT , dep:punct     , head=5\n",
      "token[ 8] = 学習        , pos:NOUN  , dep:compound  , head=9\n",
      "token[ 9] = 済み        , pos:NOUN  , dep:nmod      , head=12\n",
      "token[10] = の         , pos:ADP   , dep:case      , head=9\n",
      "token[11] = 統計        , pos:NOUN  , dep:compound  , head=12\n",
      "token[12] = モデル       , pos:NOUN  , dep:nmod      , head=15\n",
      "token[13] = と         , pos:ADP   , dep:case      , head=12\n",
      "token[14] = 単語        , pos:NOUN  , dep:compound  , head=15\n",
      "token[15] = ベクトル      , pos:NOUN  , dep:nsubj     , head=17\n",
      "token[16] = が         , pos:ADP   , dep:case      , head=15\n",
      "token[17] = 付属        , pos:VERB  , dep:ROOT      , head=17\n",
      "token[18] = し         , pos:AUX   , dep:aux       , head=17\n",
      "token[19] = て         , pos:SCONJ , dep:mark      , head=17\n",
      "token[20] = い         , pos:VERB  , dep:fixed     , head=19\n",
      "token[21] = ます        , pos:AUX   , dep:aux       , head=17\n",
      "token[22] = 。         , pos:PUNCT , dep:punct     , head=17\n"
     ]
    }
   ],
   "source": [
    "for token in doc:\n",
    "  print(\"token[%2d] = %-10s, pos:%-6s, dep:%-10s, head=%d\" % (token.i, token.text, token.pos_, token.dep_, token.head.i))"
   ]
  },
  {
   "cell_type": "code",
   "execution_count": 22,
   "metadata": {},
   "outputs": [
    {
     "data": {
      "text/plain": [
       "'nominal subject'"
      ]
     },
     "execution_count": 22,
     "metadata": {},
     "output_type": "execute_result"
    }
   ],
   "source": [
    "spacy.explain(\"nsubj\")#イコール"
   ]
  },
  {
   "cell_type": "code",
   "execution_count": 23,
   "metadata": {},
   "outputs": [
    {
     "data": {
      "text/plain": [
       "'adposition'"
      ]
     },
     "execution_count": 23,
     "metadata": {},
     "output_type": "execute_result"
    }
   ],
   "source": [
    "spacy.explain(\"ADP\")#接置詞"
   ]
  },
  {
   "cell_type": "code",
   "execution_count": 24,
   "metadata": {},
   "outputs": [
    {
     "data": {
      "text/plain": [
       "'adverb'"
      ]
     },
     "execution_count": 24,
     "metadata": {},
     "output_type": "execute_result"
    }
   ],
   "source": [
    "spacy.explain(\"ADV\")#副詞"
   ]
  },
  {
   "cell_type": "code",
   "execution_count": 25,
   "metadata": {},
   "outputs": [
    {
     "data": {
      "text/html": [
       "<span class=\"tex2jax_ignore\"><svg xmlns=\"http://www.w3.org/2000/svg\" xmlns:xlink=\"http://www.w3.org/1999/xlink\" xml:lang=\"ja\" id=\"6e7a4c241e6746ba83eeec9aafeec721-0\" class=\"displacy\" width=\"3200\" height=\"512.0\" direction=\"ltr\" style=\"max-width: none; height: 512.0px; color: #000000; background: #ffffff; font-family: Arial; direction: ltr\">\n",
       "<text class=\"displacy-token\" fill=\"currentColor\" text-anchor=\"middle\" y=\"422.0\">\n",
       "    <tspan class=\"displacy-word\" fill=\"currentColor\" x=\"50\">spaCy</tspan>\n",
       "    <tspan class=\"displacy-tag\" dy=\"2em\" fill=\"currentColor\" x=\"50\">NOUN</tspan>\n",
       "</text>\n",
       "\n",
       "<text class=\"displacy-token\" fill=\"currentColor\" text-anchor=\"middle\" y=\"422.0\">\n",
       "    <tspan class=\"displacy-word\" fill=\"currentColor\" x=\"200\">は</tspan>\n",
       "    <tspan class=\"displacy-tag\" dy=\"2em\" fill=\"currentColor\" x=\"200\">ADP</tspan>\n",
       "</text>\n",
       "\n",
       "<text class=\"displacy-token\" fill=\"currentColor\" text-anchor=\"middle\" y=\"422.0\">\n",
       "    <tspan class=\"displacy-word\" fill=\"currentColor\" x=\"350\">オープンソース</tspan>\n",
       "    <tspan class=\"displacy-tag\" dy=\"2em\" fill=\"currentColor\" x=\"350\">NOUN</tspan>\n",
       "</text>\n",
       "\n",
       "<text class=\"displacy-token\" fill=\"currentColor\" text-anchor=\"middle\" y=\"422.0\">\n",
       "    <tspan class=\"displacy-word\" fill=\"currentColor\" x=\"500\">の</tspan>\n",
       "    <tspan class=\"displacy-tag\" dy=\"2em\" fill=\"currentColor\" x=\"500\">ADP</tspan>\n",
       "</text>\n",
       "\n",
       "<text class=\"displacy-token\" fill=\"currentColor\" text-anchor=\"middle\" y=\"422.0\">\n",
       "    <tspan class=\"displacy-word\" fill=\"currentColor\" x=\"650\">自然言語処理</tspan>\n",
       "    <tspan class=\"displacy-tag\" dy=\"2em\" fill=\"currentColor\" x=\"650\">ADV</tspan>\n",
       "</text>\n",
       "\n",
       "<text class=\"displacy-token\" fill=\"currentColor\" text-anchor=\"middle\" y=\"422.0\">\n",
       "    <tspan class=\"displacy-word\" fill=\"currentColor\" x=\"800\">ライブラリ</tspan>\n",
       "    <tspan class=\"displacy-tag\" dy=\"2em\" fill=\"currentColor\" x=\"800\">NOUN</tspan>\n",
       "</text>\n",
       "\n",
       "<text class=\"displacy-token\" fill=\"currentColor\" text-anchor=\"middle\" y=\"422.0\">\n",
       "    <tspan class=\"displacy-word\" fill=\"currentColor\" x=\"950\">です。</tspan>\n",
       "    <tspan class=\"displacy-tag\" dy=\"2em\" fill=\"currentColor\" x=\"950\">AUX</tspan>\n",
       "</text>\n",
       "\n",
       "<text class=\"displacy-token\" fill=\"currentColor\" text-anchor=\"middle\" y=\"422.0\">\n",
       "    <tspan class=\"displacy-word\" fill=\"currentColor\" x=\"1100\">学習</tspan>\n",
       "    <tspan class=\"displacy-tag\" dy=\"2em\" fill=\"currentColor\" x=\"1100\">NOUN</tspan>\n",
       "</text>\n",
       "\n",
       "<text class=\"displacy-token\" fill=\"currentColor\" text-anchor=\"middle\" y=\"422.0\">\n",
       "    <tspan class=\"displacy-word\" fill=\"currentColor\" x=\"1250\">済み</tspan>\n",
       "    <tspan class=\"displacy-tag\" dy=\"2em\" fill=\"currentColor\" x=\"1250\">NOUN</tspan>\n",
       "</text>\n",
       "\n",
       "<text class=\"displacy-token\" fill=\"currentColor\" text-anchor=\"middle\" y=\"422.0\">\n",
       "    <tspan class=\"displacy-word\" fill=\"currentColor\" x=\"1400\">の</tspan>\n",
       "    <tspan class=\"displacy-tag\" dy=\"2em\" fill=\"currentColor\" x=\"1400\">ADP</tspan>\n",
       "</text>\n",
       "\n",
       "<text class=\"displacy-token\" fill=\"currentColor\" text-anchor=\"middle\" y=\"422.0\">\n",
       "    <tspan class=\"displacy-word\" fill=\"currentColor\" x=\"1550\">統計</tspan>\n",
       "    <tspan class=\"displacy-tag\" dy=\"2em\" fill=\"currentColor\" x=\"1550\">NOUN</tspan>\n",
       "</text>\n",
       "\n",
       "<text class=\"displacy-token\" fill=\"currentColor\" text-anchor=\"middle\" y=\"422.0\">\n",
       "    <tspan class=\"displacy-word\" fill=\"currentColor\" x=\"1700\">モデル</tspan>\n",
       "    <tspan class=\"displacy-tag\" dy=\"2em\" fill=\"currentColor\" x=\"1700\">NOUN</tspan>\n",
       "</text>\n",
       "\n",
       "<text class=\"displacy-token\" fill=\"currentColor\" text-anchor=\"middle\" y=\"422.0\">\n",
       "    <tspan class=\"displacy-word\" fill=\"currentColor\" x=\"1850\">と</tspan>\n",
       "    <tspan class=\"displacy-tag\" dy=\"2em\" fill=\"currentColor\" x=\"1850\">ADP</tspan>\n",
       "</text>\n",
       "\n",
       "<text class=\"displacy-token\" fill=\"currentColor\" text-anchor=\"middle\" y=\"422.0\">\n",
       "    <tspan class=\"displacy-word\" fill=\"currentColor\" x=\"2000\">単語</tspan>\n",
       "    <tspan class=\"displacy-tag\" dy=\"2em\" fill=\"currentColor\" x=\"2000\">NOUN</tspan>\n",
       "</text>\n",
       "\n",
       "<text class=\"displacy-token\" fill=\"currentColor\" text-anchor=\"middle\" y=\"422.0\">\n",
       "    <tspan class=\"displacy-word\" fill=\"currentColor\" x=\"2150\">ベクトル</tspan>\n",
       "    <tspan class=\"displacy-tag\" dy=\"2em\" fill=\"currentColor\" x=\"2150\">NOUN</tspan>\n",
       "</text>\n",
       "\n",
       "<text class=\"displacy-token\" fill=\"currentColor\" text-anchor=\"middle\" y=\"422.0\">\n",
       "    <tspan class=\"displacy-word\" fill=\"currentColor\" x=\"2300\">が</tspan>\n",
       "    <tspan class=\"displacy-tag\" dy=\"2em\" fill=\"currentColor\" x=\"2300\">ADP</tspan>\n",
       "</text>\n",
       "\n",
       "<text class=\"displacy-token\" fill=\"currentColor\" text-anchor=\"middle\" y=\"422.0\">\n",
       "    <tspan class=\"displacy-word\" fill=\"currentColor\" x=\"2450\">付属</tspan>\n",
       "    <tspan class=\"displacy-tag\" dy=\"2em\" fill=\"currentColor\" x=\"2450\">VERB</tspan>\n",
       "</text>\n",
       "\n",
       "<text class=\"displacy-token\" fill=\"currentColor\" text-anchor=\"middle\" y=\"422.0\">\n",
       "    <tspan class=\"displacy-word\" fill=\"currentColor\" x=\"2600\">し</tspan>\n",
       "    <tspan class=\"displacy-tag\" dy=\"2em\" fill=\"currentColor\" x=\"2600\">AUX</tspan>\n",
       "</text>\n",
       "\n",
       "<text class=\"displacy-token\" fill=\"currentColor\" text-anchor=\"middle\" y=\"422.0\">\n",
       "    <tspan class=\"displacy-word\" fill=\"currentColor\" x=\"2750\">て</tspan>\n",
       "    <tspan class=\"displacy-tag\" dy=\"2em\" fill=\"currentColor\" x=\"2750\">SCONJ</tspan>\n",
       "</text>\n",
       "\n",
       "<text class=\"displacy-token\" fill=\"currentColor\" text-anchor=\"middle\" y=\"422.0\">\n",
       "    <tspan class=\"displacy-word\" fill=\"currentColor\" x=\"2900\">い</tspan>\n",
       "    <tspan class=\"displacy-tag\" dy=\"2em\" fill=\"currentColor\" x=\"2900\">VERB</tspan>\n",
       "</text>\n",
       "\n",
       "<text class=\"displacy-token\" fill=\"currentColor\" text-anchor=\"middle\" y=\"422.0\">\n",
       "    <tspan class=\"displacy-word\" fill=\"currentColor\" x=\"3050\">ます。</tspan>\n",
       "    <tspan class=\"displacy-tag\" dy=\"2em\" fill=\"currentColor\" x=\"3050\">AUX</tspan>\n",
       "</text>\n",
       "\n",
       "<g class=\"displacy-arrow\">\n",
       "    <path class=\"displacy-arc\" id=\"arrow-6e7a4c241e6746ba83eeec9aafeec721-0-0\" stroke-width=\"2px\" d=\"M62,377.0 62,252.0 800.0,252.0 800.0,377.0\" fill=\"none\" stroke=\"currentColor\"/>\n",
       "    <text dy=\"1.25em\" style=\"font-size: 0.8em; letter-spacing: 1px\">\n",
       "        <textPath xlink:href=\"#arrow-6e7a4c241e6746ba83eeec9aafeec721-0-0\" class=\"displacy-label\" startOffset=\"50%\" side=\"left\" fill=\"currentColor\" text-anchor=\"middle\">nsubj</textPath>\n",
       "    </text>\n",
       "    <path class=\"displacy-arrowhead\" d=\"M62,379.0 L58,371.0 66,371.0\" fill=\"currentColor\"/>\n",
       "</g>\n",
       "\n",
       "<g class=\"displacy-arrow\">\n",
       "    <path class=\"displacy-arc\" id=\"arrow-6e7a4c241e6746ba83eeec9aafeec721-0-1\" stroke-width=\"2px\" d=\"M62,377.0 62,352.0 188.0,352.0 188.0,377.0\" fill=\"none\" stroke=\"currentColor\"/>\n",
       "    <text dy=\"1.25em\" style=\"font-size: 0.8em; letter-spacing: 1px\">\n",
       "        <textPath xlink:href=\"#arrow-6e7a4c241e6746ba83eeec9aafeec721-0-1\" class=\"displacy-label\" startOffset=\"50%\" side=\"left\" fill=\"currentColor\" text-anchor=\"middle\">case</textPath>\n",
       "    </text>\n",
       "    <path class=\"displacy-arrowhead\" d=\"M188.0,379.0 L192.0,371.0 184.0,371.0\" fill=\"currentColor\"/>\n",
       "</g>\n",
       "\n",
       "<g class=\"displacy-arrow\">\n",
       "    <path class=\"displacy-arc\" id=\"arrow-6e7a4c241e6746ba83eeec9aafeec721-0-2\" stroke-width=\"2px\" d=\"M362,377.0 362,302.0 794.0,302.0 794.0,377.0\" fill=\"none\" stroke=\"currentColor\"/>\n",
       "    <text dy=\"1.25em\" style=\"font-size: 0.8em; letter-spacing: 1px\">\n",
       "        <textPath xlink:href=\"#arrow-6e7a4c241e6746ba83eeec9aafeec721-0-2\" class=\"displacy-label\" startOffset=\"50%\" side=\"left\" fill=\"currentColor\" text-anchor=\"middle\">nmod</textPath>\n",
       "    </text>\n",
       "    <path class=\"displacy-arrowhead\" d=\"M362,379.0 L358,371.0 366,371.0\" fill=\"currentColor\"/>\n",
       "</g>\n",
       "\n",
       "<g class=\"displacy-arrow\">\n",
       "    <path class=\"displacy-arc\" id=\"arrow-6e7a4c241e6746ba83eeec9aafeec721-0-3\" stroke-width=\"2px\" d=\"M362,377.0 362,352.0 488.0,352.0 488.0,377.0\" fill=\"none\" stroke=\"currentColor\"/>\n",
       "    <text dy=\"1.25em\" style=\"font-size: 0.8em; letter-spacing: 1px\">\n",
       "        <textPath xlink:href=\"#arrow-6e7a4c241e6746ba83eeec9aafeec721-0-3\" class=\"displacy-label\" startOffset=\"50%\" side=\"left\" fill=\"currentColor\" text-anchor=\"middle\">case</textPath>\n",
       "    </text>\n",
       "    <path class=\"displacy-arrowhead\" d=\"M488.0,379.0 L492.0,371.0 484.0,371.0\" fill=\"currentColor\"/>\n",
       "</g>\n",
       "\n",
       "<g class=\"displacy-arrow\">\n",
       "    <path class=\"displacy-arc\" id=\"arrow-6e7a4c241e6746ba83eeec9aafeec721-0-4\" stroke-width=\"2px\" d=\"M662,377.0 662,352.0 788.0,352.0 788.0,377.0\" fill=\"none\" stroke=\"currentColor\"/>\n",
       "    <text dy=\"1.25em\" style=\"font-size: 0.8em; letter-spacing: 1px\">\n",
       "        <textPath xlink:href=\"#arrow-6e7a4c241e6746ba83eeec9aafeec721-0-4\" class=\"displacy-label\" startOffset=\"50%\" side=\"left\" fill=\"currentColor\" text-anchor=\"middle\">compound</textPath>\n",
       "    </text>\n",
       "    <path class=\"displacy-arrowhead\" d=\"M662,379.0 L658,371.0 666,371.0\" fill=\"currentColor\"/>\n",
       "</g>\n",
       "\n",
       "<g class=\"displacy-arrow\">\n",
       "    <path class=\"displacy-arc\" id=\"arrow-6e7a4c241e6746ba83eeec9aafeec721-0-5\" stroke-width=\"2px\" d=\"M812,377.0 812,352.0 938.0,352.0 938.0,377.0\" fill=\"none\" stroke=\"currentColor\"/>\n",
       "    <text dy=\"1.25em\" style=\"font-size: 0.8em; letter-spacing: 1px\">\n",
       "        <textPath xlink:href=\"#arrow-6e7a4c241e6746ba83eeec9aafeec721-0-5\" class=\"displacy-label\" startOffset=\"50%\" side=\"left\" fill=\"currentColor\" text-anchor=\"middle\">cop</textPath>\n",
       "    </text>\n",
       "    <path class=\"displacy-arrowhead\" d=\"M938.0,379.0 L942.0,371.0 934.0,371.0\" fill=\"currentColor\"/>\n",
       "</g>\n",
       "\n",
       "<g class=\"displacy-arrow\">\n",
       "    <path class=\"displacy-arc\" id=\"arrow-6e7a4c241e6746ba83eeec9aafeec721-0-6\" stroke-width=\"2px\" d=\"M1112,377.0 1112,352.0 1238.0,352.0 1238.0,377.0\" fill=\"none\" stroke=\"currentColor\"/>\n",
       "    <text dy=\"1.25em\" style=\"font-size: 0.8em; letter-spacing: 1px\">\n",
       "        <textPath xlink:href=\"#arrow-6e7a4c241e6746ba83eeec9aafeec721-0-6\" class=\"displacy-label\" startOffset=\"50%\" side=\"left\" fill=\"currentColor\" text-anchor=\"middle\">compound</textPath>\n",
       "    </text>\n",
       "    <path class=\"displacy-arrowhead\" d=\"M1112,379.0 L1108,371.0 1116,371.0\" fill=\"currentColor\"/>\n",
       "</g>\n",
       "\n",
       "<g class=\"displacy-arrow\">\n",
       "    <path class=\"displacy-arc\" id=\"arrow-6e7a4c241e6746ba83eeec9aafeec721-0-7\" stroke-width=\"2px\" d=\"M1262,377.0 1262,302.0 1694.0,302.0 1694.0,377.0\" fill=\"none\" stroke=\"currentColor\"/>\n",
       "    <text dy=\"1.25em\" style=\"font-size: 0.8em; letter-spacing: 1px\">\n",
       "        <textPath xlink:href=\"#arrow-6e7a4c241e6746ba83eeec9aafeec721-0-7\" class=\"displacy-label\" startOffset=\"50%\" side=\"left\" fill=\"currentColor\" text-anchor=\"middle\">nmod</textPath>\n",
       "    </text>\n",
       "    <path class=\"displacy-arrowhead\" d=\"M1262,379.0 L1258,371.0 1266,371.0\" fill=\"currentColor\"/>\n",
       "</g>\n",
       "\n",
       "<g class=\"displacy-arrow\">\n",
       "    <path class=\"displacy-arc\" id=\"arrow-6e7a4c241e6746ba83eeec9aafeec721-0-8\" stroke-width=\"2px\" d=\"M1262,377.0 1262,352.0 1388.0,352.0 1388.0,377.0\" fill=\"none\" stroke=\"currentColor\"/>\n",
       "    <text dy=\"1.25em\" style=\"font-size: 0.8em; letter-spacing: 1px\">\n",
       "        <textPath xlink:href=\"#arrow-6e7a4c241e6746ba83eeec9aafeec721-0-8\" class=\"displacy-label\" startOffset=\"50%\" side=\"left\" fill=\"currentColor\" text-anchor=\"middle\">case</textPath>\n",
       "    </text>\n",
       "    <path class=\"displacy-arrowhead\" d=\"M1388.0,379.0 L1392.0,371.0 1384.0,371.0\" fill=\"currentColor\"/>\n",
       "</g>\n",
       "\n",
       "<g class=\"displacy-arrow\">\n",
       "    <path class=\"displacy-arc\" id=\"arrow-6e7a4c241e6746ba83eeec9aafeec721-0-9\" stroke-width=\"2px\" d=\"M1562,377.0 1562,352.0 1688.0,352.0 1688.0,377.0\" fill=\"none\" stroke=\"currentColor\"/>\n",
       "    <text dy=\"1.25em\" style=\"font-size: 0.8em; letter-spacing: 1px\">\n",
       "        <textPath xlink:href=\"#arrow-6e7a4c241e6746ba83eeec9aafeec721-0-9\" class=\"displacy-label\" startOffset=\"50%\" side=\"left\" fill=\"currentColor\" text-anchor=\"middle\">compound</textPath>\n",
       "    </text>\n",
       "    <path class=\"displacy-arrowhead\" d=\"M1562,379.0 L1558,371.0 1566,371.0\" fill=\"currentColor\"/>\n",
       "</g>\n",
       "\n",
       "<g class=\"displacy-arrow\">\n",
       "    <path class=\"displacy-arc\" id=\"arrow-6e7a4c241e6746ba83eeec9aafeec721-0-10\" stroke-width=\"2px\" d=\"M1712,377.0 1712,302.0 2144.0,302.0 2144.0,377.0\" fill=\"none\" stroke=\"currentColor\"/>\n",
       "    <text dy=\"1.25em\" style=\"font-size: 0.8em; letter-spacing: 1px\">\n",
       "        <textPath xlink:href=\"#arrow-6e7a4c241e6746ba83eeec9aafeec721-0-10\" class=\"displacy-label\" startOffset=\"50%\" side=\"left\" fill=\"currentColor\" text-anchor=\"middle\">nmod</textPath>\n",
       "    </text>\n",
       "    <path class=\"displacy-arrowhead\" d=\"M1712,379.0 L1708,371.0 1716,371.0\" fill=\"currentColor\"/>\n",
       "</g>\n",
       "\n",
       "<g class=\"displacy-arrow\">\n",
       "    <path class=\"displacy-arc\" id=\"arrow-6e7a4c241e6746ba83eeec9aafeec721-0-11\" stroke-width=\"2px\" d=\"M1712,377.0 1712,352.0 1838.0,352.0 1838.0,377.0\" fill=\"none\" stroke=\"currentColor\"/>\n",
       "    <text dy=\"1.25em\" style=\"font-size: 0.8em; letter-spacing: 1px\">\n",
       "        <textPath xlink:href=\"#arrow-6e7a4c241e6746ba83eeec9aafeec721-0-11\" class=\"displacy-label\" startOffset=\"50%\" side=\"left\" fill=\"currentColor\" text-anchor=\"middle\">case</textPath>\n",
       "    </text>\n",
       "    <path class=\"displacy-arrowhead\" d=\"M1838.0,379.0 L1842.0,371.0 1834.0,371.0\" fill=\"currentColor\"/>\n",
       "</g>\n",
       "\n",
       "<g class=\"displacy-arrow\">\n",
       "    <path class=\"displacy-arc\" id=\"arrow-6e7a4c241e6746ba83eeec9aafeec721-0-12\" stroke-width=\"2px\" d=\"M2012,377.0 2012,352.0 2138.0,352.0 2138.0,377.0\" fill=\"none\" stroke=\"currentColor\"/>\n",
       "    <text dy=\"1.25em\" style=\"font-size: 0.8em; letter-spacing: 1px\">\n",
       "        <textPath xlink:href=\"#arrow-6e7a4c241e6746ba83eeec9aafeec721-0-12\" class=\"displacy-label\" startOffset=\"50%\" side=\"left\" fill=\"currentColor\" text-anchor=\"middle\">compound</textPath>\n",
       "    </text>\n",
       "    <path class=\"displacy-arrowhead\" d=\"M2012,379.0 L2008,371.0 2016,371.0\" fill=\"currentColor\"/>\n",
       "</g>\n",
       "\n",
       "<g class=\"displacy-arrow\">\n",
       "    <path class=\"displacy-arc\" id=\"arrow-6e7a4c241e6746ba83eeec9aafeec721-0-13\" stroke-width=\"2px\" d=\"M2162,377.0 2162,327.0 2441.0,327.0 2441.0,377.0\" fill=\"none\" stroke=\"currentColor\"/>\n",
       "    <text dy=\"1.25em\" style=\"font-size: 0.8em; letter-spacing: 1px\">\n",
       "        <textPath xlink:href=\"#arrow-6e7a4c241e6746ba83eeec9aafeec721-0-13\" class=\"displacy-label\" startOffset=\"50%\" side=\"left\" fill=\"currentColor\" text-anchor=\"middle\">nsubj</textPath>\n",
       "    </text>\n",
       "    <path class=\"displacy-arrowhead\" d=\"M2162,379.0 L2158,371.0 2166,371.0\" fill=\"currentColor\"/>\n",
       "</g>\n",
       "\n",
       "<g class=\"displacy-arrow\">\n",
       "    <path class=\"displacy-arc\" id=\"arrow-6e7a4c241e6746ba83eeec9aafeec721-0-14\" stroke-width=\"2px\" d=\"M2162,377.0 2162,352.0 2288.0,352.0 2288.0,377.0\" fill=\"none\" stroke=\"currentColor\"/>\n",
       "    <text dy=\"1.25em\" style=\"font-size: 0.8em; letter-spacing: 1px\">\n",
       "        <textPath xlink:href=\"#arrow-6e7a4c241e6746ba83eeec9aafeec721-0-14\" class=\"displacy-label\" startOffset=\"50%\" side=\"left\" fill=\"currentColor\" text-anchor=\"middle\">case</textPath>\n",
       "    </text>\n",
       "    <path class=\"displacy-arrowhead\" d=\"M2288.0,379.0 L2292.0,371.0 2284.0,371.0\" fill=\"currentColor\"/>\n",
       "</g>\n",
       "\n",
       "<g class=\"displacy-arrow\">\n",
       "    <path class=\"displacy-arc\" id=\"arrow-6e7a4c241e6746ba83eeec9aafeec721-0-15\" stroke-width=\"2px\" d=\"M2462,377.0 2462,352.0 2588.0,352.0 2588.0,377.0\" fill=\"none\" stroke=\"currentColor\"/>\n",
       "    <text dy=\"1.25em\" style=\"font-size: 0.8em; letter-spacing: 1px\">\n",
       "        <textPath xlink:href=\"#arrow-6e7a4c241e6746ba83eeec9aafeec721-0-15\" class=\"displacy-label\" startOffset=\"50%\" side=\"left\" fill=\"currentColor\" text-anchor=\"middle\">aux</textPath>\n",
       "    </text>\n",
       "    <path class=\"displacy-arrowhead\" d=\"M2588.0,379.0 L2592.0,371.0 2584.0,371.0\" fill=\"currentColor\"/>\n",
       "</g>\n",
       "\n",
       "<g class=\"displacy-arrow\">\n",
       "    <path class=\"displacy-arc\" id=\"arrow-6e7a4c241e6746ba83eeec9aafeec721-0-16\" stroke-width=\"2px\" d=\"M2462,377.0 2462,327.0 2741.0,327.0 2741.0,377.0\" fill=\"none\" stroke=\"currentColor\"/>\n",
       "    <text dy=\"1.25em\" style=\"font-size: 0.8em; letter-spacing: 1px\">\n",
       "        <textPath xlink:href=\"#arrow-6e7a4c241e6746ba83eeec9aafeec721-0-16\" class=\"displacy-label\" startOffset=\"50%\" side=\"left\" fill=\"currentColor\" text-anchor=\"middle\">mark</textPath>\n",
       "    </text>\n",
       "    <path class=\"displacy-arrowhead\" d=\"M2741.0,379.0 L2745.0,371.0 2737.0,371.0\" fill=\"currentColor\"/>\n",
       "</g>\n",
       "\n",
       "<g class=\"displacy-arrow\">\n",
       "    <path class=\"displacy-arc\" id=\"arrow-6e7a4c241e6746ba83eeec9aafeec721-0-17\" stroke-width=\"2px\" d=\"M2762,377.0 2762,352.0 2888.0,352.0 2888.0,377.0\" fill=\"none\" stroke=\"currentColor\"/>\n",
       "    <text dy=\"1.25em\" style=\"font-size: 0.8em; letter-spacing: 1px\">\n",
       "        <textPath xlink:href=\"#arrow-6e7a4c241e6746ba83eeec9aafeec721-0-17\" class=\"displacy-label\" startOffset=\"50%\" side=\"left\" fill=\"currentColor\" text-anchor=\"middle\">fixed</textPath>\n",
       "    </text>\n",
       "    <path class=\"displacy-arrowhead\" d=\"M2888.0,379.0 L2892.0,371.0 2884.0,371.0\" fill=\"currentColor\"/>\n",
       "</g>\n",
       "\n",
       "<g class=\"displacy-arrow\">\n",
       "    <path class=\"displacy-arc\" id=\"arrow-6e7a4c241e6746ba83eeec9aafeec721-0-18\" stroke-width=\"2px\" d=\"M2462,377.0 2462,277.0 3047.0,277.0 3047.0,377.0\" fill=\"none\" stroke=\"currentColor\"/>\n",
       "    <text dy=\"1.25em\" style=\"font-size: 0.8em; letter-spacing: 1px\">\n",
       "        <textPath xlink:href=\"#arrow-6e7a4c241e6746ba83eeec9aafeec721-0-18\" class=\"displacy-label\" startOffset=\"50%\" side=\"left\" fill=\"currentColor\" text-anchor=\"middle\">aux</textPath>\n",
       "    </text>\n",
       "    <path class=\"displacy-arrowhead\" d=\"M3047.0,379.0 L3051.0,371.0 3043.0,371.0\" fill=\"currentColor\"/>\n",
       "</g>\n",
       "</svg></span>"
      ],
      "text/plain": [
       "<IPython.core.display.HTML object>"
      ]
     },
     "metadata": {},
     "output_type": "display_data"
    }
   ],
   "source": [
    "from spacy import displacy\n",
    "displacy.render(doc,style=\"dep\",options={\"compact\":True})"
   ]
  },
  {
   "cell_type": "code",
   "execution_count": 26,
   "metadata": {},
   "outputs": [
    {
     "name": "stdout",
     "output_type": "stream",
     "text": [
      "2018年の夏 0 7 Date\n",
      "フランス 8 12 Country\n",
      "ジベルニー村 17 23 Province\n",
      "ジャン・クロード・モネ 24 35 Person\n",
      "睡蓮 43 45 Flora\n"
     ]
    }
   ],
   "source": [
    "doc = nlp('2018年の夏にフランスに行った。ジベルニー村のジャン・クロード・モネの家で池に浮かぶ睡蓮を見た。')\n",
    "for ent in doc.ents:\n",
    "    print(ent.text, ent.start_char, ent.end_char, ent.label_)"
   ]
  },
  {
   "cell_type": "code",
   "execution_count": 27,
   "metadata": {},
   "outputs": [
    {
     "data": {
      "text/html": [
       "<span class=\"tex2jax_ignore\"><div class=\"entities\" style=\"line-height: 2.5; direction: ltr\">\n",
       "<mark class=\"entity\" style=\"background: #bfe1d9; padding: 0.45em 0.6em; margin: 0 0.25em; line-height: 1; border-radius: 0.35em;\">\n",
       "    2018年の夏\n",
       "    <span style=\"font-size: 0.8em; font-weight: bold; line-height: 1; border-radius: 0.35em; vertical-align: middle; margin-left: 0.5rem\">Date</span>\n",
       "</mark>\n",
       "に\n",
       "<mark class=\"entity\" style=\"background: #ddd; padding: 0.45em 0.6em; margin: 0 0.25em; line-height: 1; border-radius: 0.35em;\">\n",
       "    フランス\n",
       "    <span style=\"font-size: 0.8em; font-weight: bold; line-height: 1; border-radius: 0.35em; vertical-align: middle; margin-left: 0.5rem\">Country</span>\n",
       "</mark>\n",
       "に行った。\n",
       "<mark class=\"entity\" style=\"background: #ddd; padding: 0.45em 0.6em; margin: 0 0.25em; line-height: 1; border-radius: 0.35em;\">\n",
       "    ジベルニー村\n",
       "    <span style=\"font-size: 0.8em; font-weight: bold; line-height: 1; border-radius: 0.35em; vertical-align: middle; margin-left: 0.5rem\">Province</span>\n",
       "</mark>\n",
       "の\n",
       "<mark class=\"entity\" style=\"background: #aa9cfc; padding: 0.45em 0.6em; margin: 0 0.25em; line-height: 1; border-radius: 0.35em;\">\n",
       "    ジャン・クロード・モネ\n",
       "    <span style=\"font-size: 0.8em; font-weight: bold; line-height: 1; border-radius: 0.35em; vertical-align: middle; margin-left: 0.5rem\">Person</span>\n",
       "</mark>\n",
       "の家で池に浮かぶ\n",
       "<mark class=\"entity\" style=\"background: #ddd; padding: 0.45em 0.6em; margin: 0 0.25em; line-height: 1; border-radius: 0.35em;\">\n",
       "    睡蓮\n",
       "    <span style=\"font-size: 0.8em; font-weight: bold; line-height: 1; border-radius: 0.35em; vertical-align: middle; margin-left: 0.5rem\">Flora</span>\n",
       "</mark>\n",
       "を見た。</div></span>"
      ],
      "text/plain": [
       "<IPython.core.display.HTML object>"
      ]
     },
     "metadata": {},
     "output_type": "display_data"
    }
   ],
   "source": [
    "displacy.render(doc,style=\"ent\")"
   ]
  },
  {
   "cell_type": "code",
   "execution_count": 28,
   "metadata": {},
   "outputs": [
    {
     "name": "stdout",
     "output_type": "stream",
     "text": [
      "フランス\n",
      "[-1.20236397e-01  3.94505337e-02 -4.11757752e-02 -1.02770887e-01\n",
      "  7.18665347e-02  8.76299217e-02 -5.47068845e-03 -1.78324535e-01\n",
      "  6.00872375e-02  1.74451336e-01  1.90868109e-01  2.61690319e-01\n",
      " -6.54767379e-02 -1.40149714e-02 -2.22815782e-01 -5.90235889e-01\n",
      " -3.24819833e-01 -6.90544173e-02  1.27473950e-01  8.57671127e-02\n",
      " -1.86485723e-01  2.55055219e-01  1.04113407e-01 -3.17168176e-01\n",
      " -1.58726171e-01  5.65739572e-02 -1.24282189e-01  3.53833884e-01\n",
      "  5.42565696e-02  2.64056891e-01 -1.56109139e-01  1.92488924e-01\n",
      " -2.73604188e-02  1.47610670e-02  1.87690586e-01 -2.57115066e-01\n",
      " -1.70743074e-02 -1.51468366e-01 -2.03820035e-01  2.36298628e-02\n",
      "  4.84734550e-02  1.88081682e-01 -2.99834877e-01 -2.56600857e-01\n",
      "  6.76627457e-03  2.16296524e-01  4.19410974e-01  3.26843828e-01\n",
      " -1.84546539e-03 -1.12716809e-01  9.31639001e-02 -2.32706189e-01\n",
      " -7.91135058e-02  1.24121495e-01 -2.28067357e-02  1.92511845e-02\n",
      "  2.59109765e-01 -3.50497216e-01  9.09563527e-02 -5.21788225e-02\n",
      "  3.90410066e-01 -1.24935202e-01 -1.32075012e-01 -6.38600253e-03\n",
      " -1.52346388e-01 -2.83192337e-01  3.99342534e-04  2.75836200e-01\n",
      " -2.07007185e-01 -2.17170008e-02 -1.14799766e-02  5.28870463e-01\n",
      "  7.12748691e-02  3.35456669e-01  6.44546449e-02 -1.11432679e-01\n",
      "  2.86091641e-02 -1.21633932e-02  1.56008691e-01  1.35786191e-01\n",
      " -3.91114354e-01 -2.31089257e-03 -2.08903506e-01 -1.38500005e-01\n",
      "  1.72773749e-01 -2.31525853e-01 -3.21030580e-02 -2.37166181e-01\n",
      " -1.16861895e-01  9.48225241e-03 -2.84977347e-01  5.11646390e-01\n",
      "  3.97892371e-02 -1.02884166e-01 -1.03119083e-01  2.11388707e-01\n",
      " -2.22066164e-01 -9.46746990e-02 -1.74374357e-02  2.21491486e-01\n",
      "  2.77188122e-01  5.77617772e-02  2.72612542e-01 -1.69053331e-01\n",
      " -1.43387109e-01 -1.03106648e-01  1.87020123e-01  8.86079669e-02\n",
      " -4.44757007e-02 -2.01209690e-02  2.01189280e-01  3.18575054e-02\n",
      " -1.85267150e-01 -2.13867992e-01  1.67831019e-01 -2.45924324e-01\n",
      " -2.11466234e-02 -6.78384602e-02  1.42768830e-01 -2.69033927e-02\n",
      " -2.67541945e-01  1.89904869e-01 -1.04320876e-01 -3.67810801e-02\n",
      "  1.65613756e-01  2.75789704e-02 -7.86028504e-02 -9.28552076e-02\n",
      "  1.21864893e-01  2.74866402e-01  2.49639764e-01 -5.13648540e-02\n",
      " -5.25636747e-02 -1.11370794e-01 -4.03893352e-01 -8.44941661e-02\n",
      " -2.79541444e-02  1.21446356e-01  2.36858442e-01  2.91389853e-01\n",
      " -2.65484452e-01  1.94554374e-01 -1.89469725e-01  4.24956292e-01\n",
      " -1.20686240e-01  9.06823296e-03 -6.17829375e-02 -7.55865201e-02\n",
      " -1.16057016e-01  1.30921945e-01  6.48114830e-03 -8.36342275e-02\n",
      "  1.56383559e-01 -1.55122325e-01 -3.70527804e-01  3.76046062e-01\n",
      " -3.82128775e-01  7.79061094e-02  2.48380184e-01  2.05572486e-01\n",
      " -1.85198411e-01 -3.65690589e-02 -7.39769265e-02  1.52030483e-01\n",
      "  9.83009711e-02 -1.44406948e-02 -3.38493772e-02  5.36110513e-02\n",
      "  2.78076321e-01 -3.69679123e-01  2.99735703e-02 -4.17064503e-02\n",
      "  1.69219807e-01 -1.94542125e-01  9.42978710e-02  4.93428558e-02\n",
      " -9.74513367e-02  3.03206732e-03 -1.79938257e-01 -6.94733411e-02\n",
      " -4.34444338e-01  1.87639862e-01  7.71044195e-02  1.82414144e-01\n",
      " -7.43445009e-02  3.16532046e-01 -2.05562562e-01  6.95959553e-02\n",
      " -2.00029947e-02  1.41052112e-01  3.62250060e-02 -4.71668988e-02\n",
      " -1.78369299e-01  1.40598625e-01 -5.15686423e-02  1.42894432e-01\n",
      " -1.09577589e-02 -2.28521466e-01  1.92656353e-01  1.17443137e-01\n",
      "  3.08720767e-01  9.93963405e-02 -9.74679887e-02  7.94694051e-02\n",
      " -3.39033812e-01 -2.50402063e-01 -1.88067555e-01 -3.75618450e-02\n",
      "  3.17888111e-01 -1.67990044e-01 -2.36788511e-01  2.51071543e-01\n",
      "  1.00095361e-01 -3.22496116e-01  1.34545296e-01  2.40750536e-01\n",
      "  2.64083266e-01  1.00851804e-01  6.63868636e-02 -4.34554905e-01\n",
      "  5.05289845e-02 -1.75297707e-01  1.80133596e-01  2.14129195e-01\n",
      " -1.26469210e-01 -3.90271723e-01 -4.32507187e-01  4.22808677e-02\n",
      " -4.75646332e-02  7.11160451e-02  2.39828616e-01  9.50943381e-02\n",
      " -2.14151621e-01 -1.98838692e-02  1.31987169e-01 -6.80416375e-02\n",
      " -3.04159354e-02  3.44127804e-01 -1.24998637e-01  2.80496836e-01\n",
      "  4.55709040e-01 -2.87291646e-01 -1.70740619e-01 -3.22101265e-01\n",
      "  2.86318455e-02  5.83825167e-03  1.16128951e-01 -2.69763350e-01\n",
      " -5.24068892e-01  1.18394881e-01  1.67004839e-01 -4.86904949e-01\n",
      "  3.57944846e-01  2.97484010e-01  2.62120157e-01  1.09811679e-01\n",
      "  3.24121326e-01 -3.43626648e-01 -1.77246779e-01  4.50104661e-02\n",
      " -2.19147671e-02 -5.82344308e-02 -1.84741542e-01  1.15765043e-01\n",
      "  1.69051617e-01 -2.37186715e-01 -2.39517465e-01  1.57649860e-01\n",
      "  1.75814867e-01 -3.81533712e-01  1.11511476e-01  5.11055768e-01\n",
      "  3.59090380e-02  1.59017257e-02  3.47372629e-02 -1.00354373e-01\n",
      "  7.73456171e-02  3.13173570e-02  1.36808679e-01 -1.45120710e-01\n",
      "  1.44507408e-01  1.27789855e-01 -8.78567994e-02 -1.56172007e-01\n",
      " -1.92863405e-01 -3.04704398e-01 -1.36059076e-01  9.25411880e-02\n",
      "  3.02009612e-01 -3.78166169e-01 -2.82574981e-01  2.84692854e-01\n",
      "  2.99530685e-01 -1.73661977e-01 -1.17963538e-01  9.58849117e-02\n",
      " -1.82785943e-01  4.46137995e-01  9.42115486e-02  1.02204107e-01]\n"
     ]
    }
   ],
   "source": [
    "token = doc[5]\n",
    "print(token)\n",
    "print(token.vector)"
   ]
  },
  {
   "cell_type": "code",
   "execution_count": 41,
   "metadata": {},
   "outputs": [
    {
     "data": {
      "text/plain": [
       "0.5635297591988502"
      ]
     },
     "execution_count": 41,
     "metadata": {},
     "output_type": "execute_result"
    }
   ],
   "source": [
    "token.similarity(doc)"
   ]
  },
  {
   "cell_type": "code",
   "execution_count": 51,
   "metadata": {},
   "outputs": [
    {
     "name": "stdout",
     "output_type": "stream",
     "text": [
      "クロード\n",
      "[ 7.91953132e-03  1.53310552e-01  1.89002350e-01 -1.98530257e-02\n",
      "  1.36183128e-01 -1.86642960e-01  5.32715619e-02 -4.34812196e-02\n",
      "  3.11897546e-02 -2.06151232e-01  9.00585949e-02  1.68649659e-01\n",
      "  2.22798243e-01  5.85287362e-02 -2.34776497e-01 -2.32149243e-01\n",
      " -2.71077901e-01  7.22279623e-02  8.49384964e-02  6.07317500e-03\n",
      "  1.00334555e-01  2.56417543e-01  1.95249796e-01 -1.85455685e-03\n",
      " -2.29760006e-01  8.71913880e-02 -1.23831563e-01  2.47573674e-01\n",
      "  3.54664654e-01  2.70502210e-01 -6.70877472e-02 -1.03029339e-02\n",
      " -1.99538663e-01  9.45966616e-02  2.15546995e-01 -4.83867109e-01\n",
      " -6.42891973e-02  1.41747594e-01 -3.01662773e-01  3.78081053e-02\n",
      " -2.51139194e-01  4.19551544e-02 -1.04458123e-01 -1.77239969e-01\n",
      "  6.45577386e-02  1.59328520e-01 -3.97132011e-04  2.85516053e-01\n",
      "  2.05671899e-02  7.67155215e-02 -3.14618014e-02 -2.56575853e-01\n",
      " -1.70619592e-01 -2.68195450e-01 -1.95956379e-01 -1.44072790e-02\n",
      "  2.49156803e-01 -3.68407220e-01  2.66302437e-01  1.64869666e-01\n",
      "  1.63396165e-01 -2.95070168e-02  2.73222178e-01 -6.76516965e-02\n",
      " -1.14671312e-01 -1.35372356e-01  1.24726310e-01  7.64447674e-02\n",
      " -2.78259993e-01 -1.05210081e-01 -2.17450857e-01  3.90243940e-02\n",
      "  1.86262637e-01  5.52358329e-01 -2.44916186e-01 -1.88098088e-01\n",
      " -3.75625312e-01  1.06924608e-01  2.73349494e-01  3.85642976e-01\n",
      " -2.84928679e-01  5.17494678e-02 -2.62792498e-01 -1.30728245e-01\n",
      " -5.05536944e-02 -3.18295807e-02  3.66228968e-02 -8.26436505e-02\n",
      " -9.99256149e-02  6.89978674e-02 -1.00564614e-01 -3.30732688e-02\n",
      " -2.59723157e-01 -1.01336896e-01 -6.61186874e-02  4.34972554e-01\n",
      " -8.84890184e-02 -2.43732825e-01  1.91206545e-01  2.18392298e-01\n",
      " -4.18024883e-02 -4.12323289e-02  3.25631559e-01  5.39719574e-02\n",
      " -1.35527298e-01  7.18518198e-02 -2.18830481e-01  1.41579226e-01\n",
      " -1.83212563e-01  7.86828473e-02  6.29881546e-02  5.84947551e-03\n",
      "  1.08217180e-01  2.27715209e-01  1.89114034e-01 -3.76798473e-02\n",
      " -2.43016705e-01 -1.00620158e-01 -1.06802220e-02  3.48515324e-02\n",
      " -8.65552202e-02  2.21603021e-01 -3.63696992e-01  1.19723476e-01\n",
      " -5.12003712e-02 -1.54504761e-01  3.10950845e-01 -4.86011446e-01\n",
      " -1.28700361e-01  2.03728437e-01  4.02511060e-01 -5.62055469e-01\n",
      " -2.12390319e-01 -4.66268025e-02 -6.27814233e-01 -1.94084376e-01\n",
      " -1.64656430e-01  3.53471607e-01  6.07828386e-02  2.45655030e-01\n",
      " -1.16060033e-01  2.94713348e-01 -4.52687830e-01  2.91317672e-01\n",
      "  1.02566302e-01 -1.24326296e-01  2.18328640e-01 -2.73767889e-01\n",
      " -2.18504176e-01  2.18201950e-01  2.15950713e-01 -1.89191952e-01\n",
      "  3.25416178e-01 -9.37001780e-02 -2.46293038e-01  3.87438238e-01\n",
      " -3.01231921e-01  7.60363974e-03 -3.19825083e-01 -1.07032105e-01\n",
      " -1.09558932e-01  4.52037364e-01 -2.10484460e-01 -1.66513231e-02\n",
      " -3.34984839e-01  4.12667170e-02 -1.01949587e-01 -1.09217338e-01\n",
      "  2.47777343e-01 -2.36586496e-01 -1.43297568e-01  3.99435818e-01\n",
      "  2.29761899e-01 -4.82490897e-01  4.91761304e-02  2.87350595e-01\n",
      " -1.78835914e-02  2.64030099e-02  4.86636125e-02 -3.46222185e-02\n",
      " -3.04239601e-01  1.28513694e-01  1.84262723e-01  2.17519719e-02\n",
      "  7.77837783e-02  2.70304918e-01  1.81522131e-01 -2.09884420e-01\n",
      "  3.49570930e-01 -1.38325930e-01 -1.83249228e-02  7.77140334e-02\n",
      " -4.94503081e-01 -1.52481273e-01 -2.47096479e-01 -2.61486143e-01\n",
      "  4.63292375e-02 -4.41031516e-01 -5.79048246e-02 -6.93724155e-02\n",
      " -6.79179057e-02 -4.36090864e-02 -2.70501494e-01 -1.31611625e-04\n",
      " -3.62927556e-01 -2.25585252e-01  2.24932935e-02 -8.61032829e-02\n",
      "  4.77956235e-01 -2.79257149e-01  2.12613270e-01  1.62985716e-02\n",
      " -1.09183080e-01 -4.76537757e-02 -1.55808613e-01  3.36778075e-01\n",
      "  2.38877863e-01  7.33862147e-02  1.65067419e-01  1.75195351e-01\n",
      " -9.08722728e-02  2.07619086e-01  1.17584445e-01  4.28693384e-01\n",
      " -4.12623398e-02 -1.66666970e-01  2.07130671e-01 -1.44126480e-02\n",
      " -1.93259001e-01 -1.04329653e-01  5.42025715e-02  3.62827539e-01\n",
      " -2.86215723e-01  1.45490929e-01 -1.97710320e-01  2.54024684e-01\n",
      "  3.91427785e-01  1.15753308e-01 -2.28990465e-02  5.08214608e-02\n",
      "  3.54167968e-01 -2.02240482e-01 -2.35523403e-01  1.13679200e-01\n",
      "  1.68977469e-01 -1.21444657e-01 -3.40261012e-02 -4.80086207e-01\n",
      " -1.65441155e-01 -3.99397165e-02  1.14863999e-02 -4.24321145e-02\n",
      "  6.67020082e-02  2.98659682e-01  7.42172658e-01 -1.13522895e-01\n",
      "  3.40987772e-01 -2.78398484e-01 -2.94692725e-01 -1.90188456e-02\n",
      " -6.88152984e-02  2.25593358e-01 -2.23689541e-01  1.34231567e-01\n",
      "  5.72537631e-02 -2.12236106e-01 -3.16687435e-01 -1.59257073e-02\n",
      "  1.39867082e-01 -1.00016378e-01 -4.87173051e-02  8.03935051e-01\n",
      " -1.84990898e-01 -7.49404579e-02 -1.69110745e-01 -6.67801052e-02\n",
      "  1.23871587e-01 -4.40679044e-02  7.93297738e-02  3.74926865e-01\n",
      "  1.64746046e-01 -4.43088561e-02  2.08669588e-01 -3.07537973e-01\n",
      " -2.52540559e-01 -2.67542928e-01 -1.82691604e-01  1.89992022e-02\n",
      "  2.93335058e-02 -2.47095034e-01 -2.16011629e-02 -3.61084819e-01\n",
      "  2.49581859e-01 -1.43745452e-01 -1.20543942e-01 -8.69449787e-03\n",
      " -2.34811559e-01  1.26958802e-01  9.92651582e-02  1.48383319e-01]\n"
     ]
    }
   ],
   "source": [
    "token = doc[15]\n",
    "print(token)\n",
    "print(token.vector)"
   ]
  },
  {
   "cell_type": "code",
   "execution_count": 5,
   "metadata": {},
   "outputs": [
    {
     "name": "stdout",
     "output_type": "stream",
     "text": [
      "Requirement already satisfied: chakin in c:\\users\\keitashiraishi\\anaconda3\\lib\\site-packages (0.0.8)\n",
      "Requirement already satisfied: gensim in c:\\users\\keitashiraishi\\anaconda3\\lib\\site-packages (4.1.2)\n",
      "Requirement already satisfied: progressbar2>=3.20.0 in c:\\users\\keitashiraishi\\anaconda3\\lib\\site-packages (from chakin) (3.53.3)\n",
      "Requirement already satisfied: pandas>=0.20.1 in c:\\users\\keitashiraishi\\anaconda3\\lib\\site-packages (from chakin) (1.1.3)\n",
      "Requirement already satisfied: six>=1.10.0 in c:\\users\\keitashiraishi\\anaconda3\\lib\\site-packages (from chakin) (1.15.0)\n",
      "Requirement already satisfied: smart-open>=1.8.1 in c:\\users\\keitashiraishi\\anaconda3\\lib\\site-packages (from gensim) (5.2.1)\n",
      "Requirement already satisfied: scipy>=0.18.1 in c:\\users\\keitashiraishi\\anaconda3\\lib\\site-packages (from gensim) (1.5.2)\n",
      "Requirement already satisfied: numpy>=1.17.0 in c:\\users\\keitashiraishi\\anaconda3\\lib\\site-packages (from gensim) (1.19.2)\n",
      "Requirement already satisfied: Cython==0.29.23 in c:\\users\\keitashiraishi\\anaconda3\\lib\\site-packages (from gensim) (0.29.23)\n",
      "Requirement already satisfied: python-utils>=2.3.0 in c:\\users\\keitashiraishi\\anaconda3\\lib\\site-packages (from progressbar2>=3.20.0->chakin) (2.5.6)\n",
      "Requirement already satisfied: pytz>=2017.2 in c:\\users\\keitashiraishi\\anaconda3\\lib\\site-packages (from pandas>=0.20.1->chakin) (2020.1)\n",
      "Requirement already satisfied: python-dateutil>=2.7.3 in c:\\users\\keitashiraishi\\anaconda3\\lib\\site-packages (from pandas>=0.20.1->chakin) (2.8.1)\n",
      "Note: you may need to restart the kernel to use updated packages.\n"
     ]
    }
   ],
   "source": [
    "pip install chakin gensim"
   ]
  },
  {
   "cell_type": "code",
   "execution_count": 1,
   "metadata": {},
   "outputs": [
    {
     "name": "stdout",
     "output_type": "stream",
     "text": [
      "                         Name  Dimension     Corpus VocabularySize  \\\n",
      "6                fastText(ja)        300  Wikipedia           580K   \n",
      "22  word2vec.Wiki-NEologd.50d         50  Wikipedia           335K   \n",
      "\n",
      "                Method  Language                 Author  \n",
      "6             fastText  Japanese               Facebook  \n",
      "22  word2vec + NEologd  Japanese  Shiroyagi Corporation  \n"
     ]
    }
   ],
   "source": [
    "import chakin\n",
    "chakin.search(lang='Japanese')"
   ]
  },
  {
   "cell_type": "code",
   "execution_count": 5,
   "metadata": {},
   "outputs": [
    {
     "name": "stderr",
     "output_type": "stream",
     "text": [
      "Test: 100% ||                                      | Time:  0:01:51  11.0 MiB/s\n"
     ]
    },
    {
     "data": {
      "text/plain": [
       "'./cc.ja.300.vec.gz'"
      ]
     },
     "execution_count": 5,
     "metadata": {},
     "output_type": "execute_result"
    }
   ],
   "source": [
    "chakin.download(number=6,save_dir='./')"
   ]
  },
  {
   "cell_type": "code",
   "execution_count": 2,
   "metadata": {},
   "outputs": [],
   "source": [
    "from gensim.models import KeyedVectors\n",
    "model = KeyedVectors.load_word2vec_format('./cc.ja.300.vec.gz', binary=False)"
   ]
  },
  {
   "cell_type": "code",
   "execution_count": 7,
   "metadata": {},
   "outputs": [
    {
     "data": {
      "text/plain": [
       "['__class__',\n",
       " '__contains__',\n",
       " '__delattr__',\n",
       " '__delitem__',\n",
       " '__dir__',\n",
       " '__doc__',\n",
       " '__eq__',\n",
       " '__format__',\n",
       " '__ge__',\n",
       " '__getattribute__',\n",
       " '__getitem__',\n",
       " '__gt__',\n",
       " '__hash__',\n",
       " '__init__',\n",
       " '__init_subclass__',\n",
       " '__iter__',\n",
       " '__le__',\n",
       " '__len__',\n",
       " '__lt__',\n",
       " '__ne__',\n",
       " '__new__',\n",
       " '__reduce__',\n",
       " '__reduce_ex__',\n",
       " '__repr__',\n",
       " '__reversed__',\n",
       " '__setattr__',\n",
       " '__setitem__',\n",
       " '__sizeof__',\n",
       " '__str__',\n",
       " '__subclasshook__',\n",
       " 'clear',\n",
       " 'copy',\n",
       " 'fromkeys',\n",
       " 'get',\n",
       " 'items',\n",
       " 'keys',\n",
       " 'pop',\n",
       " 'popitem',\n",
       " 'setdefault',\n",
       " 'update',\n",
       " 'values']"
      ]
     },
     "execution_count": 7,
     "metadata": {},
     "output_type": "execute_result"
    }
   ],
   "source": [
    "dir(model.key_to_index)"
   ]
  },
  {
   "cell_type": "code",
   "execution_count": 29,
   "metadata": {},
   "outputs": [],
   "source": [
    "import spacy\n",
    "nlp = spacy.load('ja_ginza')\n",
    "nlp.vocab.reset_vectors(width=model.vectors.shape[1])\n",
    "for word in model.key_to_index.keys():\n",
    "    nlp.vocab[word]\n",
    "    nlp.vocab.set_vector(word, model[word])"
   ]
  },
  {
   "cell_type": "code",
   "execution_count": 30,
   "metadata": {},
   "outputs": [
    {
     "data": {
      "text/plain": [
       "(2249039, 300)"
      ]
     },
     "execution_count": 30,
     "metadata": {},
     "output_type": "execute_result"
    }
   ],
   "source": [
    "nlp.vocab.vectors.shape"
   ]
  },
  {
   "cell_type": "code",
   "execution_count": 31,
   "metadata": {},
   "outputs": [
    {
     "name": "stdout",
     "output_type": "stream",
     "text": [
      "ジベルニー\n",
      "(300,)\n",
      "[ 4.030e-02  5.760e-02  6.030e-02 -1.640e-02  1.930e-02 -2.260e-02\n",
      " -5.230e-02 -3.390e-02 -7.340e-02 -1.540e-02  1.530e-02  7.730e-02\n",
      "  4.300e-03 -2.060e-02 -3.110e-02  3.300e-02 -2.440e-02  1.800e-02\n",
      "  1.260e-02  7.000e-03  1.920e-02  1.470e-02 -4.820e-02  1.010e-01\n",
      "  3.940e-02  2.170e-02 -3.330e-02  3.820e-02  5.530e-02  3.530e-02\n",
      " -3.000e-03 -9.240e-02  2.770e-02 -3.250e-02  5.380e-02 -3.120e-02\n",
      "  7.550e-02 -4.930e-02  3.620e-02 -1.190e-02  1.960e-02  3.410e-02\n",
      " -4.960e-02  4.900e-03 -4.130e-02  9.800e-03 -1.170e-02  1.790e-02\n",
      " -2.530e-02 -1.500e-02 -8.900e-03 -4.300e-03 -4.220e-02  2.200e-03\n",
      " -2.970e-02 -3.430e-02  4.030e-02 -8.400e-03  8.400e-03  9.820e-02\n",
      " -9.930e-02  1.480e-02 -4.040e-02 -3.850e-02 -7.010e-02 -4.360e-02\n",
      "  1.220e-02 -3.250e-02  1.280e-02  4.320e-02  2.190e-02 -7.520e-02\n",
      "  3.260e-02  8.200e-03  1.100e-02  2.110e-02  1.100e-02 -1.020e-02\n",
      " -3.260e-02  2.660e-02  4.000e-02  9.030e-02 -6.520e-02  2.360e-02\n",
      " -1.810e-02  3.970e-02  5.700e-02  1.430e-02 -1.000e-03 -3.130e-02\n",
      " -1.042e-01 -1.440e-02 -1.210e-02 -1.090e-01  2.210e-02  4.700e-03\n",
      " -6.540e-02 -2.430e-02 -3.140e-02  4.120e-02 -8.500e-03 -2.300e-02\n",
      "  1.460e-02  1.500e-02 -3.990e-02  8.700e-02 -2.370e-02  1.860e-02\n",
      " -6.130e-02 -5.730e-02  7.400e-03  8.500e-03  4.800e-03 -2.210e-02\n",
      "  4.600e-03  2.310e-02 -1.460e-02  5.720e-02  6.580e-02 -1.084e-01\n",
      "  3.960e-02 -1.240e-02  4.460e-02  3.000e-04 -6.830e-02 -1.010e-02\n",
      " -5.680e-02 -2.240e-02  7.200e-03 -8.700e-03  7.150e-02  4.800e-03\n",
      " -2.410e-02 -4.790e-02 -2.200e-03 -1.330e-02  3.200e-02 -7.950e-02\n",
      " -2.350e-02  2.600e-03 -2.670e-02  3.310e-02 -5.510e-02 -2.070e-02\n",
      "  5.400e-03  1.970e-02  1.010e-02 -5.130e-02 -9.970e-02  2.830e-02\n",
      " -5.930e-02 -4.490e-02  3.260e-02 -4.900e-02  3.000e-04 -1.920e-02\n",
      " -1.040e-02 -1.280e-02 -1.510e-02  4.310e-02 -3.130e-02 -1.000e-03\n",
      "  2.580e-02  1.480e-02 -1.520e-02 -4.500e-02 -9.760e-02  1.010e-02\n",
      "  3.150e-02  6.900e-03 -1.220e-02  1.100e-03 -1.800e-02  4.470e-02\n",
      " -8.920e-02  1.680e-02 -3.700e-02 -8.300e-03  1.140e-02 -3.370e-02\n",
      " -6.260e-02 -5.530e-02  1.140e-02  8.300e-03 -1.540e-02  2.850e-02\n",
      " -3.510e-02 -1.850e-02  3.010e-02 -3.230e-02 -2.180e-02 -5.720e-02\n",
      " -1.710e-02 -1.410e-02 -2.610e-02  4.520e-02  2.900e-02  1.390e-02\n",
      "  3.070e-02  2.030e-02  4.140e-02  2.590e-02  5.600e-03  2.260e-02\n",
      "  1.350e-02 -8.300e-03  2.640e-02  4.300e-02 -1.360e-02  2.260e-02\n",
      "  4.700e-03 -5.220e-02  1.800e-03  3.800e-02  3.050e-02 -1.298e-01\n",
      "  2.340e-02 -2.647e-01 -3.700e-03  1.500e-03 -6.150e-02  1.980e-02\n",
      "  3.670e-02 -4.700e-03 -6.480e-02 -1.210e-02 -3.220e-02 -6.270e-02\n",
      "  2.000e-04 -7.700e-03  4.430e-02  2.990e-02  6.230e-02  1.650e-02\n",
      "  1.700e-03 -3.490e-02 -1.970e-02  2.270e-02  4.260e-02  1.130e-02\n",
      " -6.000e-04 -5.660e-02  1.588e-01  4.410e-02  9.000e-03 -4.440e-02\n",
      " -4.640e-02  2.570e-02 -8.000e-04  3.540e-02 -2.900e-02 -4.610e-02\n",
      "  4.500e-03  1.510e-02  1.091e-01 -3.730e-02  2.220e-02 -3.310e-02\n",
      "  5.410e-02 -1.990e-02 -8.310e-02  4.270e-02 -2.710e-02  0.000e+00\n",
      " -7.730e-02 -1.130e-02  1.240e-02  5.450e-02 -1.480e-02 -5.200e-03\n",
      " -1.540e-02  1.210e-02  4.140e-02  6.520e-02 -2.020e-02 -1.290e-02\n",
      " -1.020e-02  2.390e-02 -7.760e-02  6.130e-02 -3.000e-03  4.030e-02\n",
      "  2.570e-02  2.470e-02  7.040e-02  2.270e-02 -5.200e-02  9.500e-03\n",
      "  4.320e-02  5.150e-02 -7.700e-03 -1.450e-02 -7.170e-02  5.120e-02\n",
      " -7.610e-02  5.000e-02  1.030e-02 -1.910e-02 -5.310e-02  2.660e-02]\n"
     ]
    }
   ],
   "source": [
    "doc = nlp('2018年の夏にフランスに行った。ジベルニー村のジャン・クロード・モネの家で池に浮かぶ睡蓮を見た。')\n",
    "tok = doc[10]\n",
    "print(tok)\n",
    "print(tok.vector.shape)\n",
    "print(tok.vector)"
   ]
  },
  {
   "cell_type": "code",
   "execution_count": 50,
   "metadata": {},
   "outputs": [
    {
     "name": "stdout",
     "output_type": "stream",
     "text": [
      "{}\n"
     ]
    }
   ],
   "source": [
    "import pprint\n",
    "pp = pprint.PrettyPrinter(indent=4)\n",
    "tagger = nlp.pipeline[0][1]\n",
    "pp.pprint(tagger.cfg)"
   ]
  },
  {
   "cell_type": "code",
   "execution_count": 34,
   "metadata": {},
   "outputs": [
    {
     "name": "stdout",
     "output_type": "stream",
     "text": [
      "Requirement already satisfied: thinc in c:\\users\\keitashiraishi\\anaconda3\\lib\\site-packages (8.0.10)\n",
      "Requirement already satisfied: wasabi<1.1.0,>=0.8.1 in c:\\users\\keitashiraishi\\anaconda3\\lib\\site-packages (from thinc) (0.8.2)\n",
      "Requirement already satisfied: srsly<3.0.0,>=2.4.0 in c:\\users\\keitashiraishi\\anaconda3\\lib\\site-packages (from thinc) (2.4.1)\n",
      "Requirement already satisfied: cymem<2.1.0,>=2.0.2 in c:\\users\\keitashiraishi\\anaconda3\\lib\\site-packages (from thinc) (2.0.5)\n",
      "Requirement already satisfied: numpy>=1.15.0 in c:\\users\\keitashiraishi\\anaconda3\\lib\\site-packages (from thinc) (1.19.2)\n",
      "Requirement already satisfied: catalogue<2.1.0,>=2.0.4 in c:\\users\\keitashiraishi\\anaconda3\\lib\\site-packages (from thinc) (2.0.6)\n",
      "Requirement already satisfied: blis<0.8.0,>=0.4.0 in c:\\users\\keitashiraishi\\anaconda3\\lib\\site-packages (from thinc) (0.7.4)\n",
      "Requirement already satisfied: pydantic!=1.8,!=1.8.1,<1.9.0,>=1.7.4 in c:\\users\\keitashiraishi\\anaconda3\\lib\\site-packages (from thinc) (1.8.2)\n",
      "Requirement already satisfied: murmurhash<1.1.0,>=0.28.0 in c:\\users\\keitashiraishi\\anaconda3\\lib\\site-packages (from thinc) (1.0.5)\n",
      "Requirement already satisfied: setuptools in c:\\users\\keitashiraishi\\anaconda3\\lib\\site-packages (from thinc) (50.3.1.post20201107)\n",
      "Requirement already satisfied: preshed<3.1.0,>=3.0.2 in c:\\users\\keitashiraishi\\anaconda3\\lib\\site-packages (from thinc) (3.0.5)\n",
      "Requirement already satisfied: typing-extensions>=3.7.4.3 in c:\\users\\keitashiraishi\\anaconda3\\lib\\site-packages (from pydantic!=1.8,!=1.8.1,<1.9.0,>=1.7.4->thinc) (3.7.4.3)\n",
      "Note: you may need to restart the kernel to use updated packages.\n"
     ]
    }
   ],
   "source": [
    "pip install thinc --pre"
   ]
  },
  {
   "cell_type": "code",
   "execution_count": 41,
   "metadata": {},
   "outputs": [],
   "source": [
    "import thinc.extra.search"
   ]
  },
  {
   "cell_type": "code",
   "execution_count": 49,
   "metadata": {},
   "outputs": [
    {
     "data": {
      "text/plain": [
       "['Z',\n",
       " '__class__',\n",
       " '__delattr__',\n",
       " '__dir__',\n",
       " '__doc__',\n",
       " '__eq__',\n",
       " '__format__',\n",
       " '__ge__',\n",
       " '__getattribute__',\n",
       " '__gt__',\n",
       " '__hash__',\n",
       " '__init__',\n",
       " '__init_subclass__',\n",
       " '__le__',\n",
       " '__lt__',\n",
       " '__ne__',\n",
       " '__new__',\n",
       " '__pyx_vtable__',\n",
       " '__reduce__',\n",
       " '__reduce_ex__',\n",
       " '__repr__',\n",
       " '__setattr__',\n",
       " '__setstate__',\n",
       " '__sizeof__',\n",
       " '__str__',\n",
       " '__subclasshook__',\n",
       " 'check',\n",
       " 'check_crf',\n",
       " 'gZ',\n",
       " 'g_hist',\n",
       " 'g_probs',\n",
       " 'g_score',\n",
       " 'p_hist',\n",
       " 'p_probs',\n",
       " 'p_score']"
      ]
     },
     "execution_count": 49,
     "metadata": {},
     "output_type": "execute_result"
    }
   ],
   "source": [
    "dir(thinc.extra.search.MaxViolation)"
   ]
  },
  {
   "cell_type": "code",
   "execution_count": 35,
   "metadata": {},
   "outputs": [
    {
     "ename": "ModuleNotFoundError",
     "evalue": "No module named 'thinc.extra.load_nlp'",
     "output_type": "error",
     "traceback": [
      "\u001b[1;31m---------------------------------------------------------------------------\u001b[0m",
      "\u001b[1;31mModuleNotFoundError\u001b[0m                       Traceback (most recent call last)",
      "\u001b[1;32m<ipython-input-35-96bd5b8c5568>\u001b[0m in \u001b[0;36m<module>\u001b[1;34m\u001b[0m\n\u001b[1;32m----> 1\u001b[1;33m \u001b[1;32mfrom\u001b[0m \u001b[0mthinc\u001b[0m\u001b[1;33m.\u001b[0m\u001b[0mextra\u001b[0m\u001b[1;33m.\u001b[0m\u001b[0mload_nlp\u001b[0m \u001b[1;32mimport\u001b[0m \u001b[0mVECTORS\u001b[0m\u001b[1;33m\u001b[0m\u001b[1;33m\u001b[0m\u001b[0m\n\u001b[0m\u001b[0;32m      2\u001b[0m \u001b[0mpp\u001b[0m\u001b[1;33m.\u001b[0m\u001b[0mpprint\u001b[0m\u001b[1;33m(\u001b[0m\u001b[0mVECTORS\u001b[0m\u001b[1;33m)\u001b[0m\u001b[1;33m\u001b[0m\u001b[1;33m\u001b[0m\u001b[0m\n",
      "\u001b[1;31mModuleNotFoundError\u001b[0m: No module named 'thinc.extra.load_nlp'"
     ]
    }
   ],
   "source": [
    "from thinc.extra.load_nlp import VECTORS\n",
    "pp.pprint(VECTORS)"
   ]
  },
  {
   "cell_type": "code",
   "execution_count": 14,
   "metadata": {},
   "outputs": [
    {
     "data": {
      "text/plain": [
       "{}"
      ]
     },
     "execution_count": 14,
     "metadata": {},
     "output_type": "execute_result"
    }
   ],
   "source": [
    "nlp.pipeline[0][1].cfg"
   ]
  },
  {
   "cell_type": "code",
   "execution_count": 2,
   "metadata": {},
   "outputs": [
    {
     "name": "stdout",
     "output_type": "stream",
     "text": [
      "Requirement already up-to-date: spacy[cuda100] in c:\\users\\keitashiraishi\\anaconda3\\lib\\site-packages (3.1.3)\n",
      "Requirement already satisfied, skipping upgrade: spacy-legacy<3.1.0,>=3.0.8 in c:\\users\\keitashiraishi\\anaconda3\\lib\\site-packages (from spacy[cuda100]) (3.0.8)\n",
      "Requirement already satisfied, skipping upgrade: thinc<8.1.0,>=8.0.9 in c:\\users\\keitashiraishi\\anaconda3\\lib\\site-packages (from spacy[cuda100]) (8.0.10)\n",
      "Requirement already satisfied, skipping upgrade: requests<3.0.0,>=2.13.0 in c:\\users\\keitashiraishi\\anaconda3\\lib\\site-packages (from spacy[cuda100]) (2.24.0)\n",
      "Requirement already satisfied, skipping upgrade: catalogue<2.1.0,>=2.0.6 in c:\\users\\keitashiraishi\\anaconda3\\lib\\site-packages (from spacy[cuda100]) (2.0.6)\n",
      "Requirement already satisfied, skipping upgrade: srsly<3.0.0,>=2.4.1 in c:\\users\\keitashiraishi\\anaconda3\\lib\\site-packages (from spacy[cuda100]) (2.4.1)\n",
      "Requirement already satisfied, skipping upgrade: numpy>=1.15.0 in c:\\users\\keitashiraishi\\anaconda3\\lib\\site-packages (from spacy[cuda100]) (1.19.2)\n",
      "Requirement already satisfied, skipping upgrade: wasabi<1.1.0,>=0.8.1 in c:\\users\\keitashiraishi\\anaconda3\\lib\\site-packages (from spacy[cuda100]) (0.8.2)\n",
      "Requirement already satisfied, skipping upgrade: setuptools in c:\\users\\keitashiraishi\\anaconda3\\lib\\site-packages (from spacy[cuda100]) (50.3.1.post20201107)\n",
      "Requirement already satisfied, skipping upgrade: preshed<3.1.0,>=3.0.2 in c:\\users\\keitashiraishi\\anaconda3\\lib\\site-packages (from spacy[cuda100]) (3.0.5)\n",
      "Requirement already satisfied, skipping upgrade: cymem<2.1.0,>=2.0.2 in c:\\users\\keitashiraishi\\anaconda3\\lib\\site-packages (from spacy[cuda100]) (2.0.5)\n",
      "Requirement already satisfied, skipping upgrade: jinja2 in c:\\users\\keitashiraishi\\anaconda3\\lib\\site-packages (from spacy[cuda100]) (2.11.2)\n",
      "Requirement already satisfied, skipping upgrade: pathy>=0.3.5 in c:\\users\\keitashiraishi\\anaconda3\\lib\\site-packages (from spacy[cuda100]) (0.6.0)\n",
      "Requirement already satisfied, skipping upgrade: murmurhash<1.1.0,>=0.28.0 in c:\\users\\keitashiraishi\\anaconda3\\lib\\site-packages (from spacy[cuda100]) (1.0.5)\n",
      "Requirement already satisfied, skipping upgrade: packaging>=20.0 in c:\\users\\keitashiraishi\\anaconda3\\lib\\site-packages (from spacy[cuda100]) (20.4)\n",
      "Requirement already satisfied, skipping upgrade: tqdm<5.0.0,>=4.38.0 in c:\\users\\keitashiraishi\\anaconda3\\lib\\site-packages (from spacy[cuda100]) (4.50.2)\n",
      "Requirement already satisfied, skipping upgrade: blis<0.8.0,>=0.4.0 in c:\\users\\keitashiraishi\\anaconda3\\lib\\site-packages (from spacy[cuda100]) (0.7.4)\n",
      "Requirement already satisfied, skipping upgrade: pydantic!=1.8,!=1.8.1,<1.9.0,>=1.7.4 in c:\\users\\keitashiraishi\\anaconda3\\lib\\site-packages (from spacy[cuda100]) (1.8.2)\n",
      "Requirement already satisfied, skipping upgrade: typer<0.5.0,>=0.3.0 in c:\\users\\keitashiraishi\\anaconda3\\lib\\site-packages (from spacy[cuda100]) (0.4.0)\n",
      "Collecting cupy-cuda100<10.0.0,>=5.0.0b4; extra == \"cuda100\"\n",
      "  Downloading cupy_cuda100-9.5.0-cp38-cp38-win_amd64.whl (42.2 MB)\n",
      "Requirement already satisfied, skipping upgrade: idna<3,>=2.5 in c:\\users\\keitashiraishi\\anaconda3\\lib\\site-packages (from requests<3.0.0,>=2.13.0->spacy[cuda100]) (2.10)\n",
      "Requirement already satisfied, skipping upgrade: urllib3!=1.25.0,!=1.25.1,<1.26,>=1.21.1 in c:\\users\\keitashiraishi\\anaconda3\\lib\\site-packages (from requests<3.0.0,>=2.13.0->spacy[cuda100]) (1.25.11)\n",
      "Requirement already satisfied, skipping upgrade: chardet<4,>=3.0.2 in c:\\users\\keitashiraishi\\anaconda3\\lib\\site-packages (from requests<3.0.0,>=2.13.0->spacy[cuda100]) (3.0.4)\n",
      "Requirement already satisfied, skipping upgrade: certifi>=2017.4.17 in c:\\users\\keitashiraishi\\anaconda3\\lib\\site-packages (from requests<3.0.0,>=2.13.0->spacy[cuda100]) (2020.6.20)\n",
      "Requirement already satisfied, skipping upgrade: MarkupSafe>=0.23 in c:\\users\\keitashiraishi\\anaconda3\\lib\\site-packages (from jinja2->spacy[cuda100]) (1.1.1)\n",
      "Requirement already satisfied, skipping upgrade: smart-open<6.0.0,>=5.0.0 in c:\\users\\keitashiraishi\\anaconda3\\lib\\site-packages (from pathy>=0.3.5->spacy[cuda100]) (5.2.1)\n",
      "Requirement already satisfied, skipping upgrade: pyparsing>=2.0.2 in c:\\users\\keitashiraishi\\anaconda3\\lib\\site-packages (from packaging>=20.0->spacy[cuda100]) (2.4.7)\n",
      "Requirement already satisfied, skipping upgrade: six in c:\\users\\keitashiraishi\\anaconda3\\lib\\site-packages (from packaging>=20.0->spacy[cuda100]) (1.15.0)\n",
      "Requirement already satisfied, skipping upgrade: typing-extensions>=3.7.4.3 in c:\\users\\keitashiraishi\\anaconda3\\lib\\site-packages (from pydantic!=1.8,!=1.8.1,<1.9.0,>=1.7.4->spacy[cuda100]) (3.7.4.3)\n",
      "Requirement already satisfied, skipping upgrade: click<9.0.0,>=7.1.1 in c:\\users\\keitashiraishi\\anaconda3\\lib\\site-packages (from typer<0.5.0,>=0.3.0->spacy[cuda100]) (7.1.2)\n",
      "Collecting fastrlock>=0.5\n",
      "  Downloading fastrlock-0.6-cp38-cp38-win_amd64.whl (27 kB)\n",
      "Installing collected packages: fastrlock, cupy-cuda100\n",
      "Successfully installed cupy-cuda100-9.5.0 fastrlock-0.6\n",
      "Note: you may need to restart the kernel to use updated packages.\n"
     ]
    }
   ],
   "source": [
    "pip install -U spacy[cuda100]"
   ]
  },
  {
   "cell_type": "code",
   "execution_count": 2,
   "metadata": {},
   "outputs": [
    {
     "name": "stderr",
     "output_type": "stream",
     "text": [
      "C:\\Users\\KeitaShiraishi\\anaconda3\\lib\\site-packages\\cupy\\_environment.py:213: UserWarning: CUDA path could not be detected. Set CUDA_PATH environment variable if CuPy fails to load.\n",
      "  warnings.warn(\n",
      "C:\\Users\\KeitaShiraishi\\anaconda3\\lib\\site-packages\\cupy\\_environment.py:213: UserWarning: CUDA path could not be detected. Set CUDA_PATH environment variable if CuPy fails to load.\n",
      "  warnings.warn(\n"
     ]
    },
    {
     "ename": "ValueError",
     "evalue": "GPU is not accessible. Was the library installed correctly?",
     "output_type": "error",
     "traceback": [
      "\u001b[1;31m---------------------------------------------------------------------------\u001b[0m",
      "\u001b[1;31mValueError\u001b[0m                                Traceback (most recent call last)",
      "\u001b[1;32m<ipython-input-2-a1dada75025f>\u001b[0m in \u001b[0;36m<module>\u001b[1;34m\u001b[0m\n\u001b[0;32m      1\u001b[0m \u001b[1;32mimport\u001b[0m \u001b[0mspacy\u001b[0m\u001b[1;33m\u001b[0m\u001b[1;33m\u001b[0m\u001b[0m\n\u001b[1;32m----> 2\u001b[1;33m \u001b[0mspacy\u001b[0m\u001b[1;33m.\u001b[0m\u001b[0mrequire_gpu\u001b[0m\u001b[1;33m(\u001b[0m\u001b[1;33m)\u001b[0m\u001b[1;33m\u001b[0m\u001b[1;33m\u001b[0m\u001b[0m\n\u001b[0m",
      "\u001b[1;32m~\\anaconda3\\lib\\site-packages\\thinc\\util.py\u001b[0m in \u001b[0;36mrequire_gpu\u001b[1;34m(gpu_id)\u001b[0m\n\u001b[0;32m    191\u001b[0m \u001b[1;33m\u001b[0m\u001b[0m\n\u001b[0;32m    192\u001b[0m     \u001b[1;32mif\u001b[0m \u001b[0mCupyOps\u001b[0m\u001b[1;33m.\u001b[0m\u001b[0mxp\u001b[0m \u001b[1;32mis\u001b[0m \u001b[1;32mNone\u001b[0m\u001b[1;33m:\u001b[0m\u001b[1;33m\u001b[0m\u001b[1;33m\u001b[0m\u001b[0m\n\u001b[1;32m--> 193\u001b[1;33m         \u001b[1;32mraise\u001b[0m \u001b[0mValueError\u001b[0m\u001b[1;33m(\u001b[0m\u001b[1;34m\"GPU is not accessible. Was the library installed correctly?\"\u001b[0m\u001b[1;33m)\u001b[0m\u001b[1;33m\u001b[0m\u001b[1;33m\u001b[0m\u001b[0m\n\u001b[0m\u001b[0;32m    194\u001b[0m \u001b[1;33m\u001b[0m\u001b[0m\n\u001b[0;32m    195\u001b[0m     \u001b[0mset_current_ops\u001b[0m\u001b[1;33m(\u001b[0m\u001b[0mCupyOps\u001b[0m\u001b[1;33m(\u001b[0m\u001b[1;33m)\u001b[0m\u001b[1;33m)\u001b[0m\u001b[1;33m\u001b[0m\u001b[1;33m\u001b[0m\u001b[0m\n",
      "\u001b[1;31mValueError\u001b[0m: GPU is not accessible. Was the library installed correctly?"
     ]
    }
   ],
   "source": [
    "import spacy\n",
    "spacy.require_gpu()"
   ]
  },
  {
   "cell_type": "code",
   "execution_count": 3,
   "metadata": {},
   "outputs": [
    {
     "ename": "ModuleNotFoundError",
     "evalue": "No module named 'thinc.extra.load_nlp'",
     "output_type": "error",
     "traceback": [
      "\u001b[1;31m---------------------------------------------------------------------------\u001b[0m",
      "\u001b[1;31mModuleNotFoundError\u001b[0m                       Traceback (most recent call last)",
      "\u001b[1;32m<ipython-input-3-697d60a8b4ac>\u001b[0m in \u001b[0;36m<module>\u001b[1;34m\u001b[0m\n\u001b[1;32m----> 1\u001b[1;33m \u001b[1;32mfrom\u001b[0m \u001b[0mthinc\u001b[0m\u001b[1;33m.\u001b[0m\u001b[0mextra\u001b[0m\u001b[1;33m.\u001b[0m\u001b[0mload_nlp\u001b[0m \u001b[1;32mimport\u001b[0m \u001b[0mget_spacy\u001b[0m\u001b[1;33m\u001b[0m\u001b[1;33m\u001b[0m\u001b[0m\n\u001b[0m\u001b[0;32m      2\u001b[0m \u001b[0mnlp\u001b[0m \u001b[1;33m=\u001b[0m \u001b[0mget_spacy\u001b[0m\u001b[1;33m(\u001b[0m\u001b[1;34m\"ja_ginza\"\u001b[0m\u001b[1;33m)\u001b[0m\u001b[1;33m\u001b[0m\u001b[1;33m\u001b[0m\u001b[0m\n",
      "\u001b[1;31mModuleNotFoundError\u001b[0m: No module named 'thinc.extra.load_nlp'"
     ]
    }
   ],
   "source": [
    "from thinc.extra.load_nlp import get_spacy\n",
    "nlp = get_spacy(\"ja_ginza\")"
   ]
  },
  {
   "cell_type": "code",
   "execution_count": null,
   "metadata": {},
   "outputs": [],
   "source": []
  }
 ],
 "metadata": {
  "kernelspec": {
   "display_name": "Python 3",
   "language": "python",
   "name": "python3"
  },
  "language_info": {
   "codemirror_mode": {
    "name": "ipython",
    "version": 3
   },
   "file_extension": ".py",
   "mimetype": "text/x-python",
   "name": "python",
   "nbconvert_exporter": "python",
   "pygments_lexer": "ipython3",
   "version": "3.8.5"
  }
 },
 "nbformat": 4,
 "nbformat_minor": 4
}
